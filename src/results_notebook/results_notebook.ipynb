{
 "cells": [
  {
   "cell_type": "code",
   "execution_count": 3,
   "metadata": {},
   "outputs": [],
   "source": [
    "import sys\n",
    "\n",
    "sys.path.insert(0, '../')\n",
    "import utils.common as cm\n",
    "import utils.bootcampviztools as viz\n",
    "\n",
    "import pandas as pd\n",
    "import numpy as np\n",
    "import matplotlib.pyplot as plt\n",
    "import seaborn as sns\n",
    "import re\n",
    "\n",
    "from scipy import stats, special\n",
    "\n",
    "from sklearn.model_selection import train_test_split, GridSearchCV, cross_val_score\n",
    "from sklearn.preprocessing import OneHotEncoder, MinMaxScaler, FunctionTransformer\n",
    "from sklearn.ensemble import RandomForestRegressor\n",
    "from sklearn.linear_model import LinearRegression\n",
    "from sklearn.metrics import mean_squared_error, r2_score\n",
    "from xgboost import XGBRegressor\n",
    "from lightgbm import LGBMRegressor\n",
    "from catboost import CatBoostRegressor\n",
    "from sklearn.pipeline import Pipeline\n",
    "from sklearn.compose import ColumnTransformer, TransformedTargetRegressor"
   ]
  },
  {
   "cell_type": "code",
   "execution_count": 4,
   "metadata": {},
   "outputs": [],
   "source": [
    "df = pd.read_csv(cm.DATA_PATH)"
   ]
  },
  {
   "cell_type": "code",
   "execution_count": 5,
   "metadata": {},
   "outputs": [
    {
     "name": "stdout",
     "output_type": "stream",
     "text": [
      "<class 'pandas.core.frame.DataFrame'>\n",
      "RangeIndex: 100000 entries, 0 to 99999\n",
      "Data columns (total 28 columns):\n",
      " #   Column                  Non-Null Count   Dtype  \n",
      "---  ------                  --------------   -----  \n",
      " 0   vehicle_type            100000 non-null  object \n",
      " 1   make                    100000 non-null  object \n",
      " 2   model                   100000 non-null  object \n",
      " 3   version                 99842 non-null   object \n",
      " 4   fuel                    96810 non-null   object \n",
      " 5   year                    100000 non-null  int64  \n",
      " 6   kms                     99189 non-null   float64\n",
      " 7   power                   99709 non-null   float64\n",
      " 8   doors                   0 non-null       float64\n",
      " 9   shift                   98982 non-null   object \n",
      " 10  color                   0 non-null       float64\n",
      " 11  photos                  100000 non-null  int64  \n",
      " 12  description             55810 non-null   object \n",
      " 13  price                   100000 non-null  int64  \n",
      " 14  currency                100000 non-null  object \n",
      " 15  location                100000 non-null  object \n",
      " 16  publish_date            100000 non-null  object \n",
      " 17  update_date             100000 non-null  object \n",
      " 18  dealer_name             99908 non-null   object \n",
      " 19  dealer_description      81558 non-null   object \n",
      " 20  dealer_address          99908 non-null   object \n",
      " 21  dealer_zip_code         99908 non-null   float64\n",
      " 22  dealer_city             99908 non-null   object \n",
      " 23  dealer_country_code     100000 non-null  object \n",
      " 24  dealer_is_professional  100000 non-null  bool   \n",
      " 25  dealer_website          79913 non-null   object \n",
      " 26  dealer_registered_at    99908 non-null   object \n",
      " 27  date                    100000 non-null  object \n",
      "dtypes: bool(1), float64(5), int64(3), object(19)\n",
      "memory usage: 20.7+ MB\n"
     ]
    }
   ],
   "source": [
    "df.info()"
   ]
  },
  {
   "cell_type": "markdown",
   "metadata": {},
   "source": [
    "## Descripción de las variables\n",
    "<table>\n",
    "<tr>\n",
    "    <th>Nombre de columna</th>\n",
    "    <th>Tipo de variable</th>\n",
    "    <th>Descripción</th>\n",
    "    <th>Comentarios</th>\n",
    "</tr>\n",
    "<tr>\n",
    "    <td>vehicle_type</td>\n",
    "    <td>Categórica</td>\n",
    "    <td>Tipo de vehículo</td>\n",
    "    <td>Todos los vehículos son coches (columna para eliminar)</td>\n",
    "</tr>\n",
    "<tr>\n",
    "    <td>make</td>\n",
    "    <td>Categórica</td>\n",
    "    <td>Marca del vehículo</td>\n",
    "    <td></td>\n",
    "</tr>\n",
    "<tr>\n",
    "    <td>model</td>\n",
    "    <td>Categórica</td>\n",
    "    <td>Modelo del vehículo</td>\n",
    "    <td>Habrá que ver si los nombres están bien escritos o hay valores repetidos</td>\n",
    "</tr>\n",
    "<tr>\n",
    "    <td>version</td>\n",
    "    <td>Texto/categórica</td>\n",
    "    <td>Versión del modelo concreto de coche</td>\n",
    "    <td>Habrá que valorar si se puede sacar información interesante de esa columna</td>\n",
    "</tr>\n",
    "<tr>\n",
    "    <td>fuel</td>\n",
    "    <td>Categórica</td>\n",
    "    <td>Tipo de combustible que usa el vehículo</td>\n",
    "    <td></td>\n",
    "</tr>\n",
    "<tr>\n",
    "    <td>year</td>\n",
    "    <td>Numérica</td>\n",
    "    <td>Año al que pertenece el vehículo (fabricación)</td>\n",
    "    <td></td>\n",
    "</tr>\n",
    "<tr>\n",
    "    <td>kms</td>\n",
    "    <td>Numérica</td>\n",
    "    <td>Kilometraje realizado por el vehículo</td>\n",
    "    <td></td>\n",
    "</tr>\n",
    "<tr>\n",
    "    <td>power</td>\n",
    "    <td>Numérica</td>\n",
    "    <td>Potencia en caballos que tiene el coche</td>\n",
    "    <td></td>\n",
    "</tr>\n",
    "<tr>\n",
    "    <td>doors</td>\n",
    "    <td>Numérica</td>\n",
    "    <td>Número de puertas</td>\n",
    "    <td>Tiene un 100% de missings, en principio se eliminará (a no ser que en otra columna encontremos el número de puertas)</td>\n",
    "</tr>\n",
    "<tr>\n",
    "    <td>shift</td>\n",
    "    <td>Binaria</td>\n",
    "    <td>Tipo de cambio</td>\n",
    "    <td>Manual; Automatic</td>\n",
    "</tr>\n",
    "<tr>\n",
    "    <td>color</td>\n",
    "    <td>Numérica</td>\n",
    "    <td>Color del coche</td>\n",
    "    <td>Tiene un 100% de missings, en principio se eliminará esta columna</td>\n",
    "</tr>\n",
    "<tr>\n",
    "    <td>photos</td>\n",
    "    <td>Numérica</td>\n",
    "    <td>Número de fotos subidas al anuncio del coche</td>\n",
    "    <td></td>\n",
    "</tr>\n",
    "<tr>\n",
    "    <td>description</td>\n",
    "    <td>Texto</td>\n",
    "    <td>Anuncio del coche</td>\n",
    "    <td>Probablemente eliminemos esta columna (44% de missings)</td>\n",
    "</tr>\n",
    "<tr>\n",
    "    <td>price</td>\n",
    "    <td>Numérica</td>\n",
    "    <td>Precio del coche</td>\n",
    "    <td>Esta columna será nuestro TARGET</td>\n",
    "</tr>\n",
    "<tr>\n",
    "    <td>currency</td>\n",
    "    <td>Categórica</td>\n",
    "    <td>Tipo de moneda en la que se encuentra el precio</td>\n",
    "    <td>Columna a eliminar, ya que tiene un único valor: €</td>\n",
    "</tr>\n",
    "<tr>\n",
    "    <td>location</td>\n",
    "    <td>Categórica</td>\n",
    "    <td>Población en la que se vende el vehículo</td>\n",
    "    <td>Valoraremos si utilizarla o no (tenemos código postal)</td>\n",
    "</tr>\n",
    "<tr>\n",
    "    <td>publish_date</td>\n",
    "    <td>Datetime</td>\n",
    "    <td>Fecha de publicación del anuncio</td>\n",
    "    <td></td>\n",
    "</tr>\n",
    "<tr>\n",
    "    <td>update_date</td>\n",
    "    <td>Datetime</td>\n",
    "    <td>Fecha de actualización del anuncio</td>\n",
    "    <td></td>\n",
    "</tr>\n",
    "<tr>\n",
    "    <td>dealer_name</td>\n",
    "    <td>Texto</td>\n",
    "    <td>Nombre del vendedor particular o empresa</td>\n",
    "    <td></td>\n",
    "</tr>\n",
    "<tr>\n",
    "    <td>dealer_description</td>\n",
    "    <td>Texto</td>\n",
    "    <td>Descripción de la empresa de venta</td>\n",
    "    <td>Probablemente eliminemos esta columna</td>\n",
    "</tr>\n",
    "<tr>\n",
    "    <td>dealer_address</td>\n",
    "    <td>Texto</td>\n",
    "    <td>Dirección donde se encuentra la empresa que vende el vehículo</td>\n",
    "    <td>Probablemente eliminemos esta columna</td>\n",
    "</tr>\n",
    "<tr>\n",
    "    <td>dealer_zip_code</td>\n",
    "    <td>Numérica</td>\n",
    "    <td>Código postal del vendedor</td>\n",
    "    <td></td>\n",
    "</tr>\n",
    "<tr>\n",
    "    <td>dealer_city</td>\n",
    "    <td>Texto</td>\n",
    "    <td>Ciudad en la que se encuentra el vendedor</td>\n",
    "    <td></td>\n",
    "</tr>\n",
    "<tr>\n",
    "    <td>dealer_country_code</td>\n",
    "    <td>Categórica</td>\n",
    "    <td>Código escrito del nombre del país</td>\n",
    "    <td>Esta columna tiene un único valor, la eliminaremos</td>\n",
    "</tr>\n",
    "<tr>\n",
    "    <td>dealer_is_professional</td>\n",
    "    <td>Binaria</td>\n",
    "    <td>Indica si el vendedor es una empresa profesional que se dedica a ello o un particular</td>\n",
    "    <td>Eliminaremos esta columna, ya que tiene un valor único: True</td>\n",
    "</tr>\n",
    "<tr>\n",
    "    <td>dealer_website</td>\n",
    "    <td>Texto</td>\n",
    "    <td>Link a la página web de la empresa que vende el vehículo</td>\n",
    "    <td>Esta columna la eliminaremos</td>\n",
    "</tr>\n",
    "<tr>\n",
    "    <td>dealer_registered_at</td>\n",
    "    <td>Datetime</td>\n",
    "    <td>Fecha en la que el vendedor se registró en la plataforma</td>\n",
    "    <td>Probablemente eliminaremos esta columna</td>\n",
    "</tr>\n",
    "<tr>\n",
    "    <td>date</td>\n",
    "    <td>Datetime</td>\n",
    "    <td>Fecha en la que se extrajo la información</td>\n",
    "    <td>Valoraremos si eliminar esta columna o solo utilizar una fecha concreta</td>\n",
    "</tr>\n",
    "</table>"
   ]
  },
  {
   "cell_type": "code",
   "execution_count": 6,
   "metadata": {},
   "outputs": [],
   "source": [
    "total_cols = list(df.columns)"
   ]
  },
  {
   "cell_type": "code",
   "execution_count": 7,
   "metadata": {},
   "outputs": [
    {
     "data": {
      "text/html": [
       "<div>\n",
       "<style scoped>\n",
       "    .dataframe tbody tr th:only-of-type {\n",
       "        vertical-align: middle;\n",
       "    }\n",
       "\n",
       "    .dataframe tbody tr th {\n",
       "        vertical-align: top;\n",
       "    }\n",
       "\n",
       "    .dataframe thead th {\n",
       "        text-align: right;\n",
       "    }\n",
       "</style>\n",
       "<table border=\"1\" class=\"dataframe\">\n",
       "  <thead>\n",
       "    <tr style=\"text-align: right;\">\n",
       "      <th></th>\n",
       "      <th>DATA_TYPE</th>\n",
       "      <th>MISSINGS (%)</th>\n",
       "      <th>UNIQUE_VALUES</th>\n",
       "      <th>CARDIN (%)</th>\n",
       "    </tr>\n",
       "    <tr>\n",
       "      <th>COL_N</th>\n",
       "      <th></th>\n",
       "      <th></th>\n",
       "      <th></th>\n",
       "      <th></th>\n",
       "    </tr>\n",
       "  </thead>\n",
       "  <tbody>\n",
       "    <tr>\n",
       "      <th>vehicle_type</th>\n",
       "      <td>object</td>\n",
       "      <td>0.00</td>\n",
       "      <td>1</td>\n",
       "      <td>0.00</td>\n",
       "    </tr>\n",
       "    <tr>\n",
       "      <th>make</th>\n",
       "      <td>object</td>\n",
       "      <td>0.00</td>\n",
       "      <td>66</td>\n",
       "      <td>0.07</td>\n",
       "    </tr>\n",
       "    <tr>\n",
       "      <th>model</th>\n",
       "      <td>object</td>\n",
       "      <td>0.00</td>\n",
       "      <td>748</td>\n",
       "      <td>0.75</td>\n",
       "    </tr>\n",
       "    <tr>\n",
       "      <th>version</th>\n",
       "      <td>object</td>\n",
       "      <td>0.16</td>\n",
       "      <td>8658</td>\n",
       "      <td>8.66</td>\n",
       "    </tr>\n",
       "    <tr>\n",
       "      <th>fuel</th>\n",
       "      <td>object</td>\n",
       "      <td>3.19</td>\n",
       "      <td>4</td>\n",
       "      <td>0.00</td>\n",
       "    </tr>\n",
       "    <tr>\n",
       "      <th>year</th>\n",
       "      <td>int64</td>\n",
       "      <td>0.00</td>\n",
       "      <td>43</td>\n",
       "      <td>0.04</td>\n",
       "    </tr>\n",
       "    <tr>\n",
       "      <th>kms</th>\n",
       "      <td>float64</td>\n",
       "      <td>0.81</td>\n",
       "      <td>6643</td>\n",
       "      <td>6.64</td>\n",
       "    </tr>\n",
       "    <tr>\n",
       "      <th>power</th>\n",
       "      <td>float64</td>\n",
       "      <td>0.29</td>\n",
       "      <td>349</td>\n",
       "      <td>0.35</td>\n",
       "    </tr>\n",
       "    <tr>\n",
       "      <th>doors</th>\n",
       "      <td>float64</td>\n",
       "      <td>100.00</td>\n",
       "      <td>0</td>\n",
       "      <td>0.00</td>\n",
       "    </tr>\n",
       "    <tr>\n",
       "      <th>shift</th>\n",
       "      <td>object</td>\n",
       "      <td>1.02</td>\n",
       "      <td>2</td>\n",
       "      <td>0.00</td>\n",
       "    </tr>\n",
       "    <tr>\n",
       "      <th>color</th>\n",
       "      <td>float64</td>\n",
       "      <td>100.00</td>\n",
       "      <td>0</td>\n",
       "      <td>0.00</td>\n",
       "    </tr>\n",
       "    <tr>\n",
       "      <th>photos</th>\n",
       "      <td>int64</td>\n",
       "      <td>0.00</td>\n",
       "      <td>10</td>\n",
       "      <td>0.01</td>\n",
       "    </tr>\n",
       "    <tr>\n",
       "      <th>description</th>\n",
       "      <td>object</td>\n",
       "      <td>44.19</td>\n",
       "      <td>6439</td>\n",
       "      <td>6.44</td>\n",
       "    </tr>\n",
       "    <tr>\n",
       "      <th>price</th>\n",
       "      <td>int64</td>\n",
       "      <td>0.00</td>\n",
       "      <td>2665</td>\n",
       "      <td>2.66</td>\n",
       "    </tr>\n",
       "    <tr>\n",
       "      <th>currency</th>\n",
       "      <td>object</td>\n",
       "      <td>0.00</td>\n",
       "      <td>1</td>\n",
       "      <td>0.00</td>\n",
       "    </tr>\n",
       "    <tr>\n",
       "      <th>location</th>\n",
       "      <td>object</td>\n",
       "      <td>0.00</td>\n",
       "      <td>669</td>\n",
       "      <td>0.67</td>\n",
       "    </tr>\n",
       "    <tr>\n",
       "      <th>publish_date</th>\n",
       "      <td>object</td>\n",
       "      <td>0.00</td>\n",
       "      <td>424</td>\n",
       "      <td>0.42</td>\n",
       "    </tr>\n",
       "    <tr>\n",
       "      <th>update_date</th>\n",
       "      <td>object</td>\n",
       "      <td>0.00</td>\n",
       "      <td>38</td>\n",
       "      <td>0.04</td>\n",
       "    </tr>\n",
       "    <tr>\n",
       "      <th>dealer_name</th>\n",
       "      <td>object</td>\n",
       "      <td>0.09</td>\n",
       "      <td>1678</td>\n",
       "      <td>1.68</td>\n",
       "    </tr>\n",
       "    <tr>\n",
       "      <th>dealer_description</th>\n",
       "      <td>object</td>\n",
       "      <td>18.44</td>\n",
       "      <td>1181</td>\n",
       "      <td>1.18</td>\n",
       "    </tr>\n",
       "    <tr>\n",
       "      <th>dealer_address</th>\n",
       "      <td>object</td>\n",
       "      <td>0.09</td>\n",
       "      <td>1675</td>\n",
       "      <td>1.68</td>\n",
       "    </tr>\n",
       "    <tr>\n",
       "      <th>dealer_zip_code</th>\n",
       "      <td>float64</td>\n",
       "      <td>0.09</td>\n",
       "      <td>872</td>\n",
       "      <td>0.87</td>\n",
       "    </tr>\n",
       "    <tr>\n",
       "      <th>dealer_city</th>\n",
       "      <td>object</td>\n",
       "      <td>0.09</td>\n",
       "      <td>665</td>\n",
       "      <td>0.66</td>\n",
       "    </tr>\n",
       "    <tr>\n",
       "      <th>dealer_country_code</th>\n",
       "      <td>object</td>\n",
       "      <td>0.00</td>\n",
       "      <td>1</td>\n",
       "      <td>0.00</td>\n",
       "    </tr>\n",
       "    <tr>\n",
       "      <th>dealer_is_professional</th>\n",
       "      <td>bool</td>\n",
       "      <td>0.00</td>\n",
       "      <td>1</td>\n",
       "      <td>0.00</td>\n",
       "    </tr>\n",
       "    <tr>\n",
       "      <th>dealer_website</th>\n",
       "      <td>object</td>\n",
       "      <td>20.09</td>\n",
       "      <td>888</td>\n",
       "      <td>0.89</td>\n",
       "    </tr>\n",
       "    <tr>\n",
       "      <th>dealer_registered_at</th>\n",
       "      <td>object</td>\n",
       "      <td>0.09</td>\n",
       "      <td>1177</td>\n",
       "      <td>1.18</td>\n",
       "    </tr>\n",
       "    <tr>\n",
       "      <th>date</th>\n",
       "      <td>object</td>\n",
       "      <td>0.00</td>\n",
       "      <td>13</td>\n",
       "      <td>0.01</td>\n",
       "    </tr>\n",
       "  </tbody>\n",
       "</table>\n",
       "</div>"
      ],
      "text/plain": [
       "                       DATA_TYPE  MISSINGS (%)  UNIQUE_VALUES  CARDIN (%)\n",
       "COL_N                                                                    \n",
       "vehicle_type              object          0.00              1        0.00\n",
       "make                      object          0.00             66        0.07\n",
       "model                     object          0.00            748        0.75\n",
       "version                   object          0.16           8658        8.66\n",
       "fuel                      object          3.19              4        0.00\n",
       "year                       int64          0.00             43        0.04\n",
       "kms                      float64          0.81           6643        6.64\n",
       "power                    float64          0.29            349        0.35\n",
       "doors                    float64        100.00              0        0.00\n",
       "shift                     object          1.02              2        0.00\n",
       "color                    float64        100.00              0        0.00\n",
       "photos                     int64          0.00             10        0.01\n",
       "description               object         44.19           6439        6.44\n",
       "price                      int64          0.00           2665        2.66\n",
       "currency                  object          0.00              1        0.00\n",
       "location                  object          0.00            669        0.67\n",
       "publish_date              object          0.00            424        0.42\n",
       "update_date               object          0.00             38        0.04\n",
       "dealer_name               object          0.09           1678        1.68\n",
       "dealer_description        object         18.44           1181        1.18\n",
       "dealer_address            object          0.09           1675        1.68\n",
       "dealer_zip_code          float64          0.09            872        0.87\n",
       "dealer_city               object          0.09            665        0.66\n",
       "dealer_country_code       object          0.00              1        0.00\n",
       "dealer_is_professional      bool          0.00              1        0.00\n",
       "dealer_website            object         20.09            888        0.89\n",
       "dealer_registered_at      object          0.09           1177        1.18\n",
       "date                      object          0.00             13        0.01"
      ]
     },
     "execution_count": 7,
     "metadata": {},
     "output_type": "execute_result"
    }
   ],
   "source": [
    "cm.data_report(df)"
   ]
  },
  {
   "cell_type": "code",
   "execution_count": 8,
   "metadata": {},
   "outputs": [
    {
     "data": {
      "text/html": [
       "<div>\n",
       "<style scoped>\n",
       "    .dataframe tbody tr th:only-of-type {\n",
       "        vertical-align: middle;\n",
       "    }\n",
       "\n",
       "    .dataframe tbody tr th {\n",
       "        vertical-align: top;\n",
       "    }\n",
       "\n",
       "    .dataframe thead th {\n",
       "        text-align: right;\n",
       "    }\n",
       "</style>\n",
       "<table border=\"1\" class=\"dataframe\">\n",
       "  <thead>\n",
       "    <tr style=\"text-align: right;\">\n",
       "      <th></th>\n",
       "      <th>vehicle_type</th>\n",
       "      <th>make</th>\n",
       "      <th>model</th>\n",
       "      <th>version</th>\n",
       "      <th>fuel</th>\n",
       "      <th>year</th>\n",
       "      <th>kms</th>\n",
       "      <th>power</th>\n",
       "      <th>doors</th>\n",
       "      <th>shift</th>\n",
       "      <th>...</th>\n",
       "      <th>dealer_name</th>\n",
       "      <th>dealer_description</th>\n",
       "      <th>dealer_address</th>\n",
       "      <th>dealer_zip_code</th>\n",
       "      <th>dealer_city</th>\n",
       "      <th>dealer_country_code</th>\n",
       "      <th>dealer_is_professional</th>\n",
       "      <th>dealer_website</th>\n",
       "      <th>dealer_registered_at</th>\n",
       "      <th>date</th>\n",
       "    </tr>\n",
       "  </thead>\n",
       "  <tbody>\n",
       "    <tr>\n",
       "      <th>46864</th>\n",
       "      <td>car</td>\n",
       "      <td>Nissan</td>\n",
       "      <td>370Z</td>\n",
       "      <td>3.7 V6</td>\n",
       "      <td>Gasolina</td>\n",
       "      <td>2010</td>\n",
       "      <td>59900.0</td>\n",
       "      <td>330.0</td>\n",
       "      <td>NaN</td>\n",
       "      <td>manual</td>\n",
       "      <td>...</td>\n",
       "      <td>4DRIVEcars B.</td>\n",
       "      <td>Compra, venta y gestión de venta para clientes...</td>\n",
       "      <td>KDSPORT, carrer de Vic, Montmeló, Vallès Orien...</td>\n",
       "      <td>8160.0</td>\n",
       "      <td>Montmeló</td>\n",
       "      <td>ES</td>\n",
       "      <td>True</td>\n",
       "      <td>https://www.4drivecars.es/coches?region=52</td>\n",
       "      <td>2017-05-23</td>\n",
       "      <td>2023-01-30</td>\n",
       "    </tr>\n",
       "    <tr>\n",
       "      <th>70233</th>\n",
       "      <td>car</td>\n",
       "      <td>Renault</td>\n",
       "      <td>Megane</td>\n",
       "      <td>1.5 dCi Energy Tech Road</td>\n",
       "      <td>Diésel</td>\n",
       "      <td>2018</td>\n",
       "      <td>74526.0</td>\n",
       "      <td>110.0</td>\n",
       "      <td>NaN</td>\n",
       "      <td>manual</td>\n",
       "      <td>...</td>\n",
       "      <td>AUTOHERO SESEÑA M.</td>\n",
       "      <td>Concesionario con proceso de compra online con...</td>\n",
       "      <td>Dña. Berenguela, Paseo de Argentina, Jerónimos...</td>\n",
       "      <td>28014.0</td>\n",
       "      <td>Madrid</td>\n",
       "      <td>ES</td>\n",
       "      <td>True</td>\n",
       "      <td>https://www.autohero.com/es/</td>\n",
       "      <td>2018-02-07</td>\n",
       "      <td>2023-02-01</td>\n",
       "    </tr>\n",
       "    <tr>\n",
       "      <th>42989</th>\n",
       "      <td>car</td>\n",
       "      <td>Mercedes-Benz</td>\n",
       "      <td>Marco Polo</td>\n",
       "      <td>Horizon 220 d 163 4p 9G-T</td>\n",
       "      <td>Diésel</td>\n",
       "      <td>2022</td>\n",
       "      <td>5900.0</td>\n",
       "      <td>163.0</td>\n",
       "      <td>NaN</td>\n",
       "      <td>automatic</td>\n",
       "      <td>...</td>\n",
       "      <td>LB2 M.</td>\n",
       "      <td>NaN</td>\n",
       "      <td>Carretera de Montcada, Polígon Industrial els ...</td>\n",
       "      <td>8223.0</td>\n",
       "      <td>Terrassa</td>\n",
       "      <td>ES</td>\n",
       "      <td>True</td>\n",
       "      <td>www.lb2motor.com</td>\n",
       "      <td>2021-06-16</td>\n",
       "      <td>2023-01-26</td>\n",
       "    </tr>\n",
       "    <tr>\n",
       "      <th>21980</th>\n",
       "      <td>car</td>\n",
       "      <td>Fiat</td>\n",
       "      <td>Panda</td>\n",
       "      <td>1.2 Lounge 51kW (69CV) EU6</td>\n",
       "      <td>Gasolina</td>\n",
       "      <td>2016</td>\n",
       "      <td>69400.0</td>\n",
       "      <td>69.0</td>\n",
       "      <td>NaN</td>\n",
       "      <td>manual</td>\n",
       "      <td>...</td>\n",
       "      <td>Flexicar A.</td>\n",
       "      <td>Para Comprar o Vender tu coche, Primero en FLE...</td>\n",
       "      <td>Tito Pedro, Calle Antonio Cano, San Luis, Alme...</td>\n",
       "      <td>4006.0</td>\n",
       "      <td>Almería</td>\n",
       "      <td>ES</td>\n",
       "      <td>True</td>\n",
       "      <td>www.flexicar.es</td>\n",
       "      <td>2022-03-09</td>\n",
       "      <td>2023-01-26</td>\n",
       "    </tr>\n",
       "    <tr>\n",
       "      <th>17725</th>\n",
       "      <td>car</td>\n",
       "      <td>Volvo</td>\n",
       "      <td>XC60</td>\n",
       "      <td>B4 D Inscription Auto 145 kW (197 CV)</td>\n",
       "      <td>Diésel</td>\n",
       "      <td>2021</td>\n",
       "      <td>34700.0</td>\n",
       "      <td>197.0</td>\n",
       "      <td>NaN</td>\n",
       "      <td>automatic</td>\n",
       "      <td>...</td>\n",
       "      <td>OCASIONPLUS V.</td>\n",
       "      <td>NaN</td>\n",
       "      <td>C-15 Eix Diagonal, Sant Miquel d'Olèrdola, Olè...</td>\n",
       "      <td>8734.0</td>\n",
       "      <td>Olèrdola</td>\n",
       "      <td>ES</td>\n",
       "      <td>True</td>\n",
       "      <td>NaN</td>\n",
       "      <td>2022-12-20</td>\n",
       "      <td>2023-01-25</td>\n",
       "    </tr>\n",
       "  </tbody>\n",
       "</table>\n",
       "<p>5 rows × 28 columns</p>\n",
       "</div>"
      ],
      "text/plain": [
       "      vehicle_type           make       model  \\\n",
       "46864          car         Nissan        370Z   \n",
       "70233          car        Renault      Megane   \n",
       "42989          car  Mercedes-Benz  Marco Polo   \n",
       "21980          car           Fiat       Panda   \n",
       "17725          car          Volvo        XC60   \n",
       "\n",
       "                                     version      fuel  year      kms  power  \\\n",
       "46864                                 3.7 V6  Gasolina  2010  59900.0  330.0   \n",
       "70233               1.5 dCi Energy Tech Road    Diésel  2018  74526.0  110.0   \n",
       "42989              Horizon 220 d 163 4p 9G-T    Diésel  2022   5900.0  163.0   \n",
       "21980             1.2 Lounge 51kW (69CV) EU6  Gasolina  2016  69400.0   69.0   \n",
       "17725  B4 D Inscription Auto 145 kW (197 CV)    Diésel  2021  34700.0  197.0   \n",
       "\n",
       "       doors      shift  ...         dealer_name  \\\n",
       "46864    NaN     manual  ...       4DRIVEcars B.   \n",
       "70233    NaN     manual  ...  AUTOHERO SESEÑA M.   \n",
       "42989    NaN  automatic  ...              LB2 M.   \n",
       "21980    NaN     manual  ...         Flexicar A.   \n",
       "17725    NaN  automatic  ...      OCASIONPLUS V.   \n",
       "\n",
       "                                      dealer_description  \\\n",
       "46864  Compra, venta y gestión de venta para clientes...   \n",
       "70233  Concesionario con proceso de compra online con...   \n",
       "42989                                                NaN   \n",
       "21980  Para Comprar o Vender tu coche, Primero en FLE...   \n",
       "17725                                                NaN   \n",
       "\n",
       "                                          dealer_address  dealer_zip_code  \\\n",
       "46864  KDSPORT, carrer de Vic, Montmeló, Vallès Orien...           8160.0   \n",
       "70233  Dña. Berenguela, Paseo de Argentina, Jerónimos...          28014.0   \n",
       "42989  Carretera de Montcada, Polígon Industrial els ...           8223.0   \n",
       "21980  Tito Pedro, Calle Antonio Cano, San Luis, Alme...           4006.0   \n",
       "17725  C-15 Eix Diagonal, Sant Miquel d'Olèrdola, Olè...           8734.0   \n",
       "\n",
       "      dealer_city dealer_country_code dealer_is_professional  \\\n",
       "46864    Montmeló                  ES                   True   \n",
       "70233      Madrid                  ES                   True   \n",
       "42989    Terrassa                  ES                   True   \n",
       "21980     Almería                  ES                   True   \n",
       "17725    Olèrdola                  ES                   True   \n",
       "\n",
       "                                   dealer_website dealer_registered_at  \\\n",
       "46864  https://www.4drivecars.es/coches?region=52           2017-05-23   \n",
       "70233                https://www.autohero.com/es/           2018-02-07   \n",
       "42989                            www.lb2motor.com           2021-06-16   \n",
       "21980                             www.flexicar.es           2022-03-09   \n",
       "17725                                         NaN           2022-12-20   \n",
       "\n",
       "             date  \n",
       "46864  2023-01-30  \n",
       "70233  2023-02-01  \n",
       "42989  2023-01-26  \n",
       "21980  2023-01-26  \n",
       "17725  2023-01-25  \n",
       "\n",
       "[5 rows x 28 columns]"
      ]
     },
     "execution_count": 8,
     "metadata": {},
     "output_type": "execute_result"
    }
   ],
   "source": [
    "df.sample(5)"
   ]
  },
  {
   "cell_type": "markdown",
   "metadata": {},
   "source": [
    "#### Creamos una copia de seguridad"
   ]
  },
  {
   "cell_type": "code",
   "execution_count": 9,
   "metadata": {},
   "outputs": [],
   "source": [
    "df_copy = df.copy()"
   ]
  },
  {
   "cell_type": "markdown",
   "metadata": {},
   "source": [
    "## División en train y test"
   ]
  },
  {
   "cell_type": "code",
   "execution_count": 10,
   "metadata": {},
   "outputs": [],
   "source": [
    "train, test = train_test_split(df, test_size = 0.2, random_state = 42)"
   ]
  },
  {
   "cell_type": "code",
   "execution_count": 11,
   "metadata": {},
   "outputs": [
    {
     "name": "stdout",
     "output_type": "stream",
     "text": [
      "Las dimensiones de train son: (80000, 28)\n",
      "Las dimensiones de test son: (20000, 28)\n"
     ]
    }
   ],
   "source": [
    "print('Las dimensiones de train son:', train.shape)\n",
    "print('Las dimensiones de test son:', test.shape)"
   ]
  },
  {
   "cell_type": "markdown",
   "metadata": {},
   "source": [
    "## Análisis del target"
   ]
  },
  {
   "cell_type": "code",
   "execution_count": 12,
   "metadata": {},
   "outputs": [],
   "source": [
    "target = 'price'"
   ]
  },
  {
   "cell_type": "code",
   "execution_count": 13,
   "metadata": {},
   "outputs": [
    {
     "name": "stdout",
     "output_type": "stream",
     "text": [
      "(2,)\n"
     ]
    },
    {
     "data": {
      "image/png": "[encoded data removed]",
      "text/plain": [
       "<Figure size 1200x500 with 2 Axes>"
      ]
     },
     "metadata": {},
     "output_type": "display_data"
    }
   ],
   "source": [
    "viz.plot_distribution_combined_graphs(train, [target], whisker_width = 3, bins = 150)"
   ]
  },
  {
   "cell_type": "code",
   "execution_count": 14,
   "metadata": {},
   "outputs": [
    {
     "data": {
      "text/plain": [
       "count     80000.000000\n",
       "mean      22844.601438\n",
       "std       23158.585868\n",
       "min           0.000000\n",
       "25%       12490.000000\n",
       "50%       17450.000000\n",
       "75%       25875.000000\n",
       "max      498000.000000\n",
       "Name: price, dtype: float64"
      ]
     },
     "execution_count": 14,
     "metadata": {},
     "output_type": "execute_result"
    }
   ],
   "source": [
    "train[target].describe()"
   ]
  },
  {
   "cell_type": "markdown",
   "metadata": {},
   "source": [
    "Se puede apreciar que el target tiene una distribución en larga cola, lo cual tendremos que tener en cuenta a la hora de modelar. También encontramos grandes outliers, que veremos qué hacer con ellos.\n",
    "\n",
    "Nos llama la atención que hay coches que tienen un precio de 0, lo cual es un error o un anuncio falso. Por ello, procedemos a eliminar todas las filas que tengan un precio menor de 100€."
   ]
  },
  {
   "cell_type": "code",
   "execution_count": 15,
   "metadata": {},
   "outputs": [],
   "source": [
    "train.drop(index = (train.loc[train[target] < 100].index), inplace = True)"
   ]
  },
  {
   "cell_type": "markdown",
   "metadata": {},
   "source": [
    "Vamos a ver cómo cambia la distribución del target al aplicar alguna transformación, vamos a intentar que su distribución sea lo más normal posible."
   ]
  },
  {
   "cell_type": "code",
   "execution_count": 16,
   "metadata": {},
   "outputs": [
    {
     "name": "stdout",
     "output_type": "stream",
     "text": [
      "Con una transformación logarítmica:\n"
     ]
    },
    {
     "data": {
      "image/png": "[encoded data removed]",
      "text/plain": [
       "<Figure size 640x480 with 1 Axes>"
      ]
     },
     "metadata": {},
     "output_type": "display_data"
    }
   ],
   "source": [
    "print('Con una transformación logarítmica:')\n",
    "sns.histplot(np.log(train[target]), kde = True);"
   ]
  },
  {
   "cell_type": "code",
   "execution_count": 17,
   "metadata": {},
   "outputs": [
    {
     "name": "stdout",
     "output_type": "stream",
     "text": [
      "Aplicando box-cox:\n"
     ]
    },
    {
     "data": {
      "image/png": "[encoded data removed]",
      "text/plain": [
       "<Figure size 640x480 with 1 Axes>"
      ]
     },
     "metadata": {},
     "output_type": "display_data"
    }
   ],
   "source": [
    "print('Aplicando box-cox:')\n",
    "sns.histplot(stats.boxcox(train[target])[0], kde = True);"
   ]
  },
  {
   "cell_type": "markdown",
   "metadata": {},
   "source": [
    "Ambas transformaciones acercan el target a la normalidad, pero vamos a utilizar un Q-Q plot para ver qué transformación nos conviene más."
   ]
  },
  {
   "cell_type": "code",
   "execution_count": 18,
   "metadata": {},
   "outputs": [
    {
     "data": {
      "image/png": "[encoded data removed]",
      "text/plain": [
       "<Figure size 640x480 with 1 Axes>"
      ]
     },
     "metadata": {},
     "output_type": "display_data"
    }
   ],
   "source": [
    "stats.probplot(np.log(train[target]), dist = \"norm\", plot = plt)\n",
    "plt.title('Q-Q Plot con trasformación logarítmica')\n",
    "plt.show();"
   ]
  },
  {
   "cell_type": "code",
   "execution_count": 19,
   "metadata": {},
   "outputs": [
    {
     "data": {
      "image/png": "[encoded data removed]",
      "text/plain": [
       "<Figure size 640x480 with 1 Axes>"
      ]
     },
     "metadata": {},
     "output_type": "display_data"
    }
   ],
   "source": [
    "stats.probplot(stats.boxcox(train[target])[0], dist = \"norm\", plot = plt)\n",
    "plt.title('Q-Q Plot con trasformación boxcox')\n",
    "plt.show();"
   ]
  },
  {
   "cell_type": "markdown",
   "metadata": {},
   "source": [
    "La transformación logarítmica hace que la distribución se desvíe en valores bajos, mientras que la boxcox lo hace con valores muy altos. Parece que la boxcos normaliza mejor en valores intermedios, por lo que es muy probable que utilicemos esa transformación."
   ]
  },
  {
   "cell_type": "markdown",
   "metadata": {},
   "source": [
    "## Preselección de variables\n",
    "\n",
    "Vamos a eliminar aquellas variables cuyo % de nulos es muy alto y aquellas que hemos seleccionado al ver su descripción."
   ]
  },
  {
   "cell_type": "code",
   "execution_count": 20,
   "metadata": {},
   "outputs": [],
   "source": [
    "cols_to_drop = ['doors', 'color', 'description', 'vehicle_type', 'currency', 'dealer_name', 'dealer_description', \\\n",
    "                'dealer_address', 'dealer_city', 'dealer_country_code', 'dealer_is_professional', 'dealer_website', \\\n",
    "                'dealer_registered_at', 'date', 'publish_date', 'update_date', 'location']"
   ]
  },
  {
   "cell_type": "code",
   "execution_count": 21,
   "metadata": {},
   "outputs": [],
   "source": [
    "train.drop(columns = cols_to_drop, inplace = True)"
   ]
  },
  {
   "cell_type": "code",
   "execution_count": 22,
   "metadata": {},
   "outputs": [
    {
     "name": "stdout",
     "output_type": "stream",
     "text": [
      "Ahora tenemos 11 columnas\n"
     ]
    }
   ],
   "source": [
    "print(f'Ahora tenemos {len(train.columns)} columnas')"
   ]
  },
  {
   "cell_type": "markdown",
   "metadata": {},
   "source": [
    "Como el dataset proviene de anuncios en diferentes aplicaciones, tenemos muchos duplicados en los que solo cambia la fecha de actualización, que ahora hemos eliminado. Por ello, vamos a limpiar ahora los duplicados."
   ]
  },
  {
   "cell_type": "code",
   "execution_count": 23,
   "metadata": {},
   "outputs": [
    {
     "name": "stdout",
     "output_type": "stream",
     "text": [
      "El número de instancias originales es: 79965\n",
      "El número de instancias sin duplicar es: 38509\n"
     ]
    }
   ],
   "source": [
    "print(f'El número de instancias originales es: {train.shape[0]}\\n\\\n",
    "El número de instancias sin duplicar es: {train.drop_duplicates().shape[0]}')"
   ]
  },
  {
   "cell_type": "code",
   "execution_count": 24,
   "metadata": {},
   "outputs": [],
   "source": [
    "train.drop_duplicates(keep = 'last', inplace = True)"
   ]
  },
  {
   "cell_type": "markdown",
   "metadata": {},
   "source": [
    "## Análisis exploratorio de los datos: univariante\n",
    "\n",
    "### Variables numéricas"
   ]
  },
  {
   "cell_type": "code",
   "execution_count": 25,
   "metadata": {},
   "outputs": [
    {
     "name": "stdout",
     "output_type": "stream",
     "text": [
      "Las variables numéricas son: ['year', 'kms', 'power', 'photos', 'dealer_zip_code']\n"
     ]
    }
   ],
   "source": [
    "num_cols = []\n",
    "for col in train.columns:\n",
    "    if col == 'price':\n",
    "        pass\n",
    "    elif train[col].dtype == 'int64' or train[col].dtype == 'float64':\n",
    "        num_cols.append(col)\n",
    "    \n",
    "print('Las variables numéricas son:', num_cols)"
   ]
  },
  {
   "cell_type": "code",
   "execution_count": 26,
   "metadata": {},
   "outputs": [],
   "source": [
    "# viz.plot_distribution_combined_graphs(train, num_cols, whisker_width = 3)"
   ]
  },
  {
   "cell_type": "markdown",
   "metadata": {},
   "source": [
    "Analizando los histogramas de cada variable numérica, podemos observar lo siguiente:\n",
    "- year: se puede observar que la mayor parte de los vehículos son posteriores al año 2000, su distribución es asimétrica, por lo que intentaremos normalizarla.\n",
    "- kms: distribución asimétrica, la mayor parte de los valores se encuentran entre 0 y 250000 km, intentaremos normalizar.\n",
    "- power: se observan valores muy altos para ser la potencia real de un vehículo, por lo que hay errores. Estudiaremos con mayor detenimiento esta columna.\n",
    "- photos: casi todos los anuncios tienen entre 7 y 10 fotos, será interesante normalizar.\n",
    "- dealer_zip_code: el código postal se reparte algo más por todo el rango de valores, pero veremos qué tal le sienta la normalización."
   ]
  },
  {
   "cell_type": "code",
   "execution_count": 27,
   "metadata": {},
   "outputs": [
    {
     "data": {
      "text/html": [
       "<div>\n",
       "<style scoped>\n",
       "    .dataframe tbody tr th:only-of-type {\n",
       "        vertical-align: middle;\n",
       "    }\n",
       "\n",
       "    .dataframe tbody tr th {\n",
       "        vertical-align: top;\n",
       "    }\n",
       "\n",
       "    .dataframe thead th {\n",
       "        text-align: right;\n",
       "    }\n",
       "</style>\n",
       "<table border=\"1\" class=\"dataframe\">\n",
       "  <thead>\n",
       "    <tr style=\"text-align: right;\">\n",
       "      <th></th>\n",
       "      <th>year</th>\n",
       "      <th>kms</th>\n",
       "      <th>power</th>\n",
       "      <th>photos</th>\n",
       "      <th>dealer_zip_code</th>\n",
       "    </tr>\n",
       "  </thead>\n",
       "  <tbody>\n",
       "    <tr>\n",
       "      <th>count</th>\n",
       "      <td>38509.000000</td>\n",
       "      <td>3.827900e+04</td>\n",
       "      <td>38432.000000</td>\n",
       "      <td>38509.000000</td>\n",
       "      <td>38482.000000</td>\n",
       "    </tr>\n",
       "    <tr>\n",
       "      <th>mean</th>\n",
       "      <td>2016.663689</td>\n",
       "      <td>8.647518e+04</td>\n",
       "      <td>153.675869</td>\n",
       "      <td>9.825625</td>\n",
       "      <td>24520.667585</td>\n",
       "    </tr>\n",
       "    <tr>\n",
       "      <th>std</th>\n",
       "      <td>4.032818</td>\n",
       "      <td>5.633577e+04</td>\n",
       "      <td>1840.125441</td>\n",
       "      <td>0.967989</td>\n",
       "      <td>14615.956409</td>\n",
       "    </tr>\n",
       "    <tr>\n",
       "      <th>min</th>\n",
       "      <td>1967.000000</td>\n",
       "      <td>0.000000e+00</td>\n",
       "      <td>0.000000</td>\n",
       "      <td>1.000000</td>\n",
       "      <td>1002.000000</td>\n",
       "    </tr>\n",
       "    <tr>\n",
       "      <th>25%</th>\n",
       "      <td>2015.000000</td>\n",
       "      <td>4.371900e+04</td>\n",
       "      <td>102.000000</td>\n",
       "      <td>10.000000</td>\n",
       "      <td>8734.000000</td>\n",
       "    </tr>\n",
       "    <tr>\n",
       "      <th>50%</th>\n",
       "      <td>2018.000000</td>\n",
       "      <td>8.070100e+04</td>\n",
       "      <td>128.000000</td>\n",
       "      <td>10.000000</td>\n",
       "      <td>28230.000000</td>\n",
       "    </tr>\n",
       "    <tr>\n",
       "      <th>75%</th>\n",
       "      <td>2019.000000</td>\n",
       "      <td>1.169610e+05</td>\n",
       "      <td>150.000000</td>\n",
       "      <td>10.000000</td>\n",
       "      <td>36211.000000</td>\n",
       "    </tr>\n",
       "    <tr>\n",
       "      <th>max</th>\n",
       "      <td>2023.000000</td>\n",
       "      <td>1.330000e+06</td>\n",
       "      <td>360571.000000</td>\n",
       "      <td>10.000000</td>\n",
       "      <td>50820.000000</td>\n",
       "    </tr>\n",
       "  </tbody>\n",
       "</table>\n",
       "</div>"
      ],
      "text/plain": [
       "               year           kms          power        photos  \\\n",
       "count  38509.000000  3.827900e+04   38432.000000  38509.000000   \n",
       "mean    2016.663689  8.647518e+04     153.675869      9.825625   \n",
       "std        4.032818  5.633577e+04    1840.125441      0.967989   \n",
       "min     1967.000000  0.000000e+00       0.000000      1.000000   \n",
       "25%     2015.000000  4.371900e+04     102.000000     10.000000   \n",
       "50%     2018.000000  8.070100e+04     128.000000     10.000000   \n",
       "75%     2019.000000  1.169610e+05     150.000000     10.000000   \n",
       "max     2023.000000  1.330000e+06  360571.000000     10.000000   \n",
       "\n",
       "       dealer_zip_code  \n",
       "count     38482.000000  \n",
       "mean      24520.667585  \n",
       "std       14615.956409  \n",
       "min        1002.000000  \n",
       "25%        8734.000000  \n",
       "50%       28230.000000  \n",
       "75%       36211.000000  \n",
       "max       50820.000000  "
      ]
     },
     "execution_count": 27,
     "metadata": {},
     "output_type": "execute_result"
    }
   ],
   "source": [
    "train[num_cols].describe()"
   ]
  },
  {
   "cell_type": "markdown",
   "metadata": {},
   "source": [
    "#### Power"
   ]
  },
  {
   "cell_type": "code",
   "execution_count": 28,
   "metadata": {},
   "outputs": [
    {
     "data": {
      "text/plain": [
       "999.0"
      ]
     },
     "execution_count": 28,
     "metadata": {},
     "output_type": "execute_result"
    }
   ],
   "source": [
    "train.loc[train.power < train.power.max(), 'power'].max()"
   ]
  },
  {
   "cell_type": "code",
   "execution_count": 29,
   "metadata": {},
   "outputs": [
    {
     "data": {
      "text/html": [
       "<div>\n",
       "<style scoped>\n",
       "    .dataframe tbody tr th:only-of-type {\n",
       "        vertical-align: middle;\n",
       "    }\n",
       "\n",
       "    .dataframe tbody tr th {\n",
       "        vertical-align: top;\n",
       "    }\n",
       "\n",
       "    .dataframe thead th {\n",
       "        text-align: right;\n",
       "    }\n",
       "</style>\n",
       "<table border=\"1\" class=\"dataframe\">\n",
       "  <thead>\n",
       "    <tr style=\"text-align: right;\">\n",
       "      <th></th>\n",
       "      <th>make</th>\n",
       "      <th>model</th>\n",
       "      <th>version</th>\n",
       "      <th>fuel</th>\n",
       "      <th>year</th>\n",
       "      <th>kms</th>\n",
       "      <th>power</th>\n",
       "      <th>shift</th>\n",
       "      <th>photos</th>\n",
       "      <th>price</th>\n",
       "      <th>dealer_zip_code</th>\n",
       "    </tr>\n",
       "  </thead>\n",
       "  <tbody>\n",
       "    <tr>\n",
       "      <th>40435</th>\n",
       "      <td>Tesla</td>\n",
       "      <td>Model X</td>\n",
       "      <td>Performance Ludicrous 680 5p Aut.</td>\n",
       "      <td>Eléctrico</td>\n",
       "      <td>2019</td>\n",
       "      <td>88900.0</td>\n",
       "      <td>816.0</td>\n",
       "      <td>automatic</td>\n",
       "      <td>10</td>\n",
       "      <td>79880</td>\n",
       "      <td>46001.0</td>\n",
       "    </tr>\n",
       "    <tr>\n",
       "      <th>40430</th>\n",
       "      <td>Tesla</td>\n",
       "      <td>Model X</td>\n",
       "      <td>Performance Ludicrous 680 5p Aut.</td>\n",
       "      <td>Eléctrico</td>\n",
       "      <td>2019</td>\n",
       "      <td>88900.0</td>\n",
       "      <td>816.0</td>\n",
       "      <td>automatic</td>\n",
       "      <td>10</td>\n",
       "      <td>79900</td>\n",
       "      <td>46001.0</td>\n",
       "    </tr>\n",
       "    <tr>\n",
       "      <th>11231</th>\n",
       "      <td>Dodge</td>\n",
       "      <td>Viper</td>\n",
       "      <td>SRT-10 503 2p</td>\n",
       "      <td>Gasolina</td>\n",
       "      <td>2008</td>\n",
       "      <td>3000.0</td>\n",
       "      <td>850.0</td>\n",
       "      <td>manual</td>\n",
       "      <td>10</td>\n",
       "      <td>279000</td>\n",
       "      <td>28803.0</td>\n",
       "    </tr>\n",
       "    <tr>\n",
       "      <th>44159</th>\n",
       "      <td>Ferrari</td>\n",
       "      <td>LaFerrari</td>\n",
       "      <td>6.3 963 3p</td>\n",
       "      <td>NaN</td>\n",
       "      <td>2017</td>\n",
       "      <td>20000.0</td>\n",
       "      <td>963.0</td>\n",
       "      <td>manual</td>\n",
       "      <td>5</td>\n",
       "      <td>1000</td>\n",
       "      <td>28140.0</td>\n",
       "    </tr>\n",
       "    <tr>\n",
       "      <th>40475</th>\n",
       "      <td>Tesla</td>\n",
       "      <td>Model S</td>\n",
       "      <td>Plaid 1020 100kWh Tracción Intregal 5p Aut.</td>\n",
       "      <td>Eléctrico</td>\n",
       "      <td>2023</td>\n",
       "      <td>3046.0</td>\n",
       "      <td>999.0</td>\n",
       "      <td>automatic</td>\n",
       "      <td>10</td>\n",
       "      <td>149990</td>\n",
       "      <td>28046.0</td>\n",
       "    </tr>\n",
       "    <tr>\n",
       "      <th>48803</th>\n",
       "      <td>Audi</td>\n",
       "      <td>S8</td>\n",
       "      <td>4.0 TFSI 571 quattro 4p tip.</td>\n",
       "      <td>Gasolina</td>\n",
       "      <td>2000</td>\n",
       "      <td>250000.0</td>\n",
       "      <td>360571.0</td>\n",
       "      <td>automatic</td>\n",
       "      <td>9</td>\n",
       "      <td>6000</td>\n",
       "      <td>2007.0</td>\n",
       "    </tr>\n",
       "    <tr>\n",
       "      <th>38751</th>\n",
       "      <td>Dodge</td>\n",
       "      <td>Viper</td>\n",
       "      <td>SRT DEMON</td>\n",
       "      <td>Gasolina</td>\n",
       "      <td>2008</td>\n",
       "      <td>8700.0</td>\n",
       "      <td>850.0</td>\n",
       "      <td>automatic</td>\n",
       "      <td>8</td>\n",
       "      <td>199000</td>\n",
       "      <td>28803.0</td>\n",
       "    </tr>\n",
       "    <tr>\n",
       "      <th>21312</th>\n",
       "      <td>Tesla</td>\n",
       "      <td>Model S</td>\n",
       "      <td>Performance Ludicrous 613 5p Aut.</td>\n",
       "      <td>Eléctrico</td>\n",
       "      <td>2019</td>\n",
       "      <td>45920.0</td>\n",
       "      <td>816.0</td>\n",
       "      <td>automatic</td>\n",
       "      <td>10</td>\n",
       "      <td>78500</td>\n",
       "      <td>46001.0</td>\n",
       "    </tr>\n",
       "  </tbody>\n",
       "</table>\n",
       "</div>"
      ],
      "text/plain": [
       "          make      model                                      version  \\\n",
       "40435    Tesla    Model X            Performance Ludicrous 680 5p Aut.   \n",
       "40430    Tesla    Model X            Performance Ludicrous 680 5p Aut.   \n",
       "11231    Dodge      Viper                                SRT-10 503 2p   \n",
       "44159  Ferrari  LaFerrari                                   6.3 963 3p   \n",
       "40475    Tesla    Model S  Plaid 1020 100kWh Tracción Intregal 5p Aut.   \n",
       "48803     Audi         S8                 4.0 TFSI 571 quattro 4p tip.   \n",
       "38751    Dodge      Viper                                    SRT DEMON   \n",
       "21312    Tesla    Model S            Performance Ludicrous 613 5p Aut.   \n",
       "\n",
       "            fuel  year       kms     power      shift  photos   price  \\\n",
       "40435  Eléctrico  2019   88900.0     816.0  automatic      10   79880   \n",
       "40430  Eléctrico  2019   88900.0     816.0  automatic      10   79900   \n",
       "11231   Gasolina  2008    3000.0     850.0     manual      10  279000   \n",
       "44159        NaN  2017   20000.0     963.0     manual       5    1000   \n",
       "40475  Eléctrico  2023    3046.0     999.0  automatic      10  149990   \n",
       "48803   Gasolina  2000  250000.0  360571.0  automatic       9    6000   \n",
       "38751   Gasolina  2008    8700.0     850.0  automatic       8  199000   \n",
       "21312  Eléctrico  2019   45920.0     816.0  automatic      10   78500   \n",
       "\n",
       "       dealer_zip_code  \n",
       "40435          46001.0  \n",
       "40430          46001.0  \n",
       "11231          28803.0  \n",
       "44159          28140.0  \n",
       "40475          28046.0  \n",
       "48803           2007.0  \n",
       "38751          28803.0  \n",
       "21312          46001.0  "
      ]
     },
     "execution_count": 29,
     "metadata": {},
     "output_type": "execute_result"
    }
   ],
   "source": [
    "train.loc[train.power > 800]"
   ]
  },
  {
   "cell_type": "markdown",
   "metadata": {},
   "source": [
    "Vemos que el coche con 360571 caballos es un error, ya que no existe un vehículo con esa potencia. El resto sin embargo sí son correctos, por lo que solo vamos a eliminar aquellos anuncios con una potencia superior a los 1020 caballos, ya que hay un modelo de Tesla en el mercado que llega a esa potencia."
   ]
  },
  {
   "cell_type": "code",
   "execution_count": 30,
   "metadata": {},
   "outputs": [],
   "source": [
    "train.drop(train.loc[train.power > 1020].index, inplace = True)"
   ]
  },
  {
   "cell_type": "markdown",
   "metadata": {},
   "source": [
    "### Variables categóricas\n",
    "\n",
    "Como variables categóricas vamos a contar únicamente fuel y shift, ya que make, model y version tienen demasiadas categorías, por lo que veremos qué hacer con ellas más adelante."
   ]
  },
  {
   "cell_type": "code",
   "execution_count": 31,
   "metadata": {},
   "outputs": [],
   "source": [
    "cat_cols = ['fuel', 'shift']"
   ]
  },
  {
   "cell_type": "code",
   "execution_count": 32,
   "metadata": {},
   "outputs": [],
   "source": [
    "# viz.plot_distribution_categoricas(train, cat_cols, relativa = False, mostrar_valores = True);"
   ]
  },
  {
   "cell_type": "markdown",
   "metadata": {},
   "source": [
    "No observamos nada extraño, más adelante haremos un análisis bivariante para comparar las categorías con el target.\n",
    "\n",
    "Como decíamos, las columnas de make, model y version, las valoraremos en la parte de ingeniería de datos, para ver qué podemos hacer con ellas y qué información extra podemos obtener."
   ]
  },
  {
   "cell_type": "markdown",
   "metadata": {},
   "source": [
    "## Análisis exploratorio de los datos: bivariante\n",
    "\n",
    "### Variables numéricas contra target"
   ]
  },
  {
   "cell_type": "code",
   "execution_count": 33,
   "metadata": {},
   "outputs": [],
   "source": [
    "# sns.pairplot(train[num_cols + [target]]);"
   ]
  },
  {
   "cell_type": "markdown",
   "metadata": {},
   "source": [
    "Solamente podríamos relacionar algo la variable power con price, el resto no parece que tengan mucha relación con el precio del coche.\n",
    "\n",
    "Vamos a ver la correlación que hay entre las variables numéricas seleccionadas y el target, para ver la importancia que pueden tener."
   ]
  },
  {
   "cell_type": "code",
   "execution_count": 34,
   "metadata": {},
   "outputs": [],
   "source": [
    "# plt.figure(figsize = (10,8))\n",
    "# sns.heatmap(np.abs(train[num_cols + [target]].corr()), annot = True, cmap = \"Blues\", vmin = 0, vmax = 1);"
   ]
  },
  {
   "cell_type": "markdown",
   "metadata": {},
   "source": [
    "Observamos una fuerte correlación entre el target y power. Year y kms también tienen una correlación interesante, sin embargo photos y dealer_zip_code no parece que aporten mucho. Haremos dos listas, una con todas las variables y otra con las que tienen algo de correlación."
   ]
  },
  {
   "cell_type": "code",
   "execution_count": 35,
   "metadata": {},
   "outputs": [],
   "source": [
    "num_feat = num_cols.copy()\n",
    "num_feat_corr = ['power', 'kms', 'year']"
   ]
  },
  {
   "cell_type": "markdown",
   "metadata": {},
   "source": [
    "### Variables categóricas contra target"
   ]
  },
  {
   "cell_type": "code",
   "execution_count": 36,
   "metadata": {},
   "outputs": [],
   "source": [
    "# for col in cat_cols:\n",
    "#     sns.histplot(train.loc[train[target] < 100000], x = target, hue = col, kde = True)\n",
    "#     plt.show();"
   ]
  },
  {
   "cell_type": "markdown",
   "metadata": {},
   "source": [
    "Tras analizar la relación entre target y categorías, podemos observar:\n",
    "- Parece que los coches eléctricos tienen un precio mayor que los que se mueven con combustible fósil.\n",
    "- Parece que los coches automáticos son más caros que los manuales.\n",
    "\n",
    "Por ello, vamos a añadir ambas columnas a nuestras features finales."
   ]
  },
  {
   "cell_type": "code",
   "execution_count": 37,
   "metadata": {},
   "outputs": [],
   "source": [
    "cat_feat = cat_cols.copy()"
   ]
  },
  {
   "cell_type": "markdown",
   "metadata": {},
   "source": [
    "Además, vamos a añadir de momento las columnas make y model a la selección de categóricas."
   ]
  },
  {
   "cell_type": "code",
   "execution_count": 38,
   "metadata": {},
   "outputs": [
    {
     "data": {
      "text/plain": [
       "['fuel', 'shift', 'make', 'model']"
      ]
     },
     "execution_count": 38,
     "metadata": {},
     "output_type": "execute_result"
    }
   ],
   "source": [
    "total_cat_feat = cat_feat + ['make', 'model']\n",
    "total_cat_feat"
   ]
  },
  {
   "cell_type": "markdown",
   "metadata": {},
   "source": [
    "## Tratamiento de nulos\n",
    "\n",
    "Vamos a ver cuántos nulos tiene nuestro dataset de train para ver si los eliminamos o intentamos introducir esos datos faltantes."
   ]
  },
  {
   "cell_type": "code",
   "execution_count": 39,
   "metadata": {},
   "outputs": [
    {
     "data": {
      "text/plain": [
       "make               0.000000\n",
       "model              0.000000\n",
       "version            0.132440\n",
       "fuel               3.046120\n",
       "year               0.000000\n",
       "kms                0.597278\n",
       "power              0.199958\n",
       "shift              1.430872\n",
       "photos             0.000000\n",
       "price              0.000000\n",
       "dealer_zip_code    0.070115\n",
       "dtype: float64"
      ]
     },
     "execution_count": 39,
     "metadata": {},
     "output_type": "execute_result"
    }
   ],
   "source": [
    "train.isna().sum() / len(train) * 100"
   ]
  },
  {
   "cell_type": "markdown",
   "metadata": {},
   "source": [
    "Vemos que las siguientes columnas tienen nulos:\n",
    "- version: no vamos a eliminarlos, porque es una columna que probablemente transformemos y eliminemos más adelante.\n",
    "- fuel: tiene un 3% de nulos. Como la mayor parte de los vehículos son diésel o gasolina, probablemente utilicemos la moda para rellenar esos faltantes.\n",
    "- kms: podemos utilizar la media o mediana para rellenarlos.\n",
    "- power: podemos utilizar la media o mediana para rellenarlos también.\n",
    "- shift: hay más coches manuales que automáticos, probablemente los rellenemos con la moda.\n",
    "- dealer_zip_code: tiene muy pocos nulos, podemos utilizar la moda (es una numérica discreta) para rellenar esos nulos."
   ]
  },
  {
   "cell_type": "code",
   "execution_count": 40,
   "metadata": {},
   "outputs": [
    {
     "data": {
      "text/html": [
       "<div>\n",
       "<style scoped>\n",
       "    .dataframe tbody tr th:only-of-type {\n",
       "        vertical-align: middle;\n",
       "    }\n",
       "\n",
       "    .dataframe tbody tr th {\n",
       "        vertical-align: top;\n",
       "    }\n",
       "\n",
       "    .dataframe thead th {\n",
       "        text-align: right;\n",
       "    }\n",
       "</style>\n",
       "<table border=\"1\" class=\"dataframe\">\n",
       "  <thead>\n",
       "    <tr style=\"text-align: right;\">\n",
       "      <th></th>\n",
       "      <th>make</th>\n",
       "      <th>model</th>\n",
       "      <th>version</th>\n",
       "      <th>fuel</th>\n",
       "      <th>year</th>\n",
       "      <th>kms</th>\n",
       "      <th>power</th>\n",
       "      <th>shift</th>\n",
       "      <th>photos</th>\n",
       "      <th>price</th>\n",
       "      <th>dealer_zip_code</th>\n",
       "    </tr>\n",
       "  </thead>\n",
       "  <tbody>\n",
       "    <tr>\n",
       "      <th>46160</th>\n",
       "      <td>Ford</td>\n",
       "      <td>Tourneo Custom</td>\n",
       "      <td>2.0 Ecoblue 96kW (130CV) Hybrid L1 Trend</td>\n",
       "      <td>NaN</td>\n",
       "      <td>2020</td>\n",
       "      <td>31649.0</td>\n",
       "      <td>130.0</td>\n",
       "      <td>manual</td>\n",
       "      <td>10</td>\n",
       "      <td>27990</td>\n",
       "      <td>23008.0</td>\n",
       "    </tr>\n",
       "    <tr>\n",
       "      <th>3132</th>\n",
       "      <td>Toyota</td>\n",
       "      <td>Corolla</td>\n",
       "      <td>1.8 125H BUSINESS E-CVT TOURING SPORT</td>\n",
       "      <td>NaN</td>\n",
       "      <td>2020</td>\n",
       "      <td>12429.0</td>\n",
       "      <td>122.0</td>\n",
       "      <td>automatic</td>\n",
       "      <td>10</td>\n",
       "      <td>20990</td>\n",
       "      <td>3010.0</td>\n",
       "    </tr>\n",
       "    <tr>\n",
       "      <th>808</th>\n",
       "      <td>Renault</td>\n",
       "      <td>Arkana</td>\n",
       "      <td>RS Line TCe 103kW(140CV) EDC MicroH.-SS</td>\n",
       "      <td>NaN</td>\n",
       "      <td>2021</td>\n",
       "      <td>19995.0</td>\n",
       "      <td>140.0</td>\n",
       "      <td>automatic</td>\n",
       "      <td>10</td>\n",
       "      <td>27490</td>\n",
       "      <td>41005.0</td>\n",
       "    </tr>\n",
       "    <tr>\n",
       "      <th>81746</th>\n",
       "      <td>Toyota</td>\n",
       "      <td>C-HR</td>\n",
       "      <td>1.8 125H Dynamic Plus</td>\n",
       "      <td>NaN</td>\n",
       "      <td>2017</td>\n",
       "      <td>55586.0</td>\n",
       "      <td>122.0</td>\n",
       "      <td>automatic</td>\n",
       "      <td>10</td>\n",
       "      <td>20990</td>\n",
       "      <td>36211.0</td>\n",
       "    </tr>\n",
       "    <tr>\n",
       "      <th>26546</th>\n",
       "      <td>Lexus</td>\n",
       "      <td>IS</td>\n",
       "      <td>2.5 300H EXECUTIVE</td>\n",
       "      <td>NaN</td>\n",
       "      <td>2019</td>\n",
       "      <td>99950.0</td>\n",
       "      <td>223.0</td>\n",
       "      <td>NaN</td>\n",
       "      <td>10</td>\n",
       "      <td>566</td>\n",
       "      <td>8007.0</td>\n",
       "    </tr>\n",
       "    <tr>\n",
       "      <th>...</th>\n",
       "      <td>...</td>\n",
       "      <td>...</td>\n",
       "      <td>...</td>\n",
       "      <td>...</td>\n",
       "      <td>...</td>\n",
       "      <td>...</td>\n",
       "      <td>...</td>\n",
       "      <td>...</td>\n",
       "      <td>...</td>\n",
       "      <td>...</td>\n",
       "      <td>...</td>\n",
       "    </tr>\n",
       "    <tr>\n",
       "      <th>48555</th>\n",
       "      <td>CUPRA</td>\n",
       "      <td>Leon</td>\n",
       "      <td>1.4 e-Hybrid 180kW (245CV) DSG</td>\n",
       "      <td>NaN</td>\n",
       "      <td>2020</td>\n",
       "      <td>36000.0</td>\n",
       "      <td>245.0</td>\n",
       "      <td>automatic</td>\n",
       "      <td>10</td>\n",
       "      <td>32990</td>\n",
       "      <td>36211.0</td>\n",
       "    </tr>\n",
       "    <tr>\n",
       "      <th>56886</th>\n",
       "      <td>CUPRA</td>\n",
       "      <td>Leon</td>\n",
       "      <td>1.4 e-Hybrid 180kW (245CV) DSG</td>\n",
       "      <td>NaN</td>\n",
       "      <td>2020</td>\n",
       "      <td>36000.0</td>\n",
       "      <td>245.0</td>\n",
       "      <td>automatic</td>\n",
       "      <td>10</td>\n",
       "      <td>32990</td>\n",
       "      <td>48004.0</td>\n",
       "    </tr>\n",
       "    <tr>\n",
       "      <th>65725</th>\n",
       "      <td>Skoda</td>\n",
       "      <td>Octavia</td>\n",
       "      <td>COMBI 1.4 TSI 81KW (110CV) GNC DSG STYLE</td>\n",
       "      <td>NaN</td>\n",
       "      <td>2017</td>\n",
       "      <td>91000.0</td>\n",
       "      <td>110.0</td>\n",
       "      <td>NaN</td>\n",
       "      <td>10</td>\n",
       "      <td>477</td>\n",
       "      <td>28006.0</td>\n",
       "    </tr>\n",
       "    <tr>\n",
       "      <th>5311</th>\n",
       "      <td>Citroen</td>\n",
       "      <td>C5 X</td>\n",
       "      <td>Hybrid 225 e-EAT8 Shine</td>\n",
       "      <td>NaN</td>\n",
       "      <td>2022</td>\n",
       "      <td>2.0</td>\n",
       "      <td>225.0</td>\n",
       "      <td>automatic</td>\n",
       "      <td>10</td>\n",
       "      <td>40950</td>\n",
       "      <td>8830.0</td>\n",
       "    </tr>\n",
       "    <tr>\n",
       "      <th>82386</th>\n",
       "      <td>Toyota</td>\n",
       "      <td>Corolla</td>\n",
       "      <td>2.0 180H FEEL! E-CVT TOURING SPORT</td>\n",
       "      <td>NaN</td>\n",
       "      <td>2019</td>\n",
       "      <td>91996.0</td>\n",
       "      <td>180.0</td>\n",
       "      <td>automatic</td>\n",
       "      <td>10</td>\n",
       "      <td>20990</td>\n",
       "      <td>36211.0</td>\n",
       "    </tr>\n",
       "  </tbody>\n",
       "</table>\n",
       "<p>1173 rows × 11 columns</p>\n",
       "</div>"
      ],
      "text/plain": [
       "          make           model                                   version fuel  \\\n",
       "46160     Ford  Tourneo Custom  2.0 Ecoblue 96kW (130CV) Hybrid L1 Trend  NaN   \n",
       "3132    Toyota         Corolla     1.8 125H BUSINESS E-CVT TOURING SPORT  NaN   \n",
       "808    Renault          Arkana   RS Line TCe 103kW(140CV) EDC MicroH.-SS  NaN   \n",
       "81746   Toyota            C-HR                     1.8 125H Dynamic Plus  NaN   \n",
       "26546    Lexus              IS                        2.5 300H EXECUTIVE  NaN   \n",
       "...        ...             ...                                       ...  ...   \n",
       "48555    CUPRA            Leon            1.4 e-Hybrid 180kW (245CV) DSG  NaN   \n",
       "56886    CUPRA            Leon            1.4 e-Hybrid 180kW (245CV) DSG  NaN   \n",
       "65725    Skoda         Octavia  COMBI 1.4 TSI 81KW (110CV) GNC DSG STYLE  NaN   \n",
       "5311   Citroen            C5 X                   Hybrid 225 e-EAT8 Shine  NaN   \n",
       "82386   Toyota         Corolla        2.0 180H FEEL! E-CVT TOURING SPORT  NaN   \n",
       "\n",
       "       year      kms  power      shift  photos  price  dealer_zip_code  \n",
       "46160  2020  31649.0  130.0     manual      10  27990          23008.0  \n",
       "3132   2020  12429.0  122.0  automatic      10  20990           3010.0  \n",
       "808    2021  19995.0  140.0  automatic      10  27490          41005.0  \n",
       "81746  2017  55586.0  122.0  automatic      10  20990          36211.0  \n",
       "26546  2019  99950.0  223.0        NaN      10    566           8007.0  \n",
       "...     ...      ...    ...        ...     ...    ...              ...  \n",
       "48555  2020  36000.0  245.0  automatic      10  32990          36211.0  \n",
       "56886  2020  36000.0  245.0  automatic      10  32990          48004.0  \n",
       "65725  2017  91000.0  110.0        NaN      10    477          28006.0  \n",
       "5311   2022      2.0  225.0  automatic      10  40950           8830.0  \n",
       "82386  2019  91996.0  180.0  automatic      10  20990          36211.0  \n",
       "\n",
       "[1173 rows x 11 columns]"
      ]
     },
     "execution_count": 40,
     "metadata": {},
     "output_type": "execute_result"
    }
   ],
   "source": [
    "train.loc[train['fuel'].isna()]"
   ]
  },
  {
   "cell_type": "markdown",
   "metadata": {},
   "source": [
    "En la columna version de los coches que no tienen fuel, podemos obtener información de si es gasolina/diesel o hibrido/eléctrico, por lo que no tocaremos esta columna hasta que hayamos transformado version. Lo mismo ocurre con power. \n",
    "\n",
    "Sin embargo, kms, shift y dealer_zip_code sí podemos rellenarlas."
   ]
  },
  {
   "cell_type": "code",
   "execution_count": 41,
   "metadata": {},
   "outputs": [],
   "source": [
    "kms_mean_train = train['kms'].mean().round(0)\n",
    "shift_mode_train = train['shift'].mode()[0]\n",
    "dealer_zip_code_mode_train = train['dealer_zip_code'].mode()[0]\n",
    "\n",
    "train.loc[train['kms'].isna(), 'kms'] = kms_mean_train\n",
    "train.loc[train['shift'].isna(), 'shift'] = shift_mode_train\n",
    "train.loc[train['dealer_zip_code'].isna(), 'dealer_zip_code'] = dealer_zip_code_mode_train"
   ]
  },
  {
   "cell_type": "markdown",
   "metadata": {},
   "source": [
    "## Ingeniería de datos\n",
    "\n",
    "Vamos a intentar sacar toda la información posible de la columna version que sea común a todos los coches. También limpiaremos make y model, quitando espacios innecesarios y convirtiendo en minúsculas cada string. Para ello, vamos a crear diferentes funciones que nos ayuden a realizar esta tarea."
   ]
  },
  {
   "cell_type": "code",
   "execution_count": 42,
   "metadata": {},
   "outputs": [],
   "source": [
    "def extract_info(x):\n",
    "    if not isinstance(x, str):\n",
    "        return pd.Series([0, 0, 0])\n",
    "    \n",
    "    pattern = r'(?P<number>\\b\\d\\.\\d\\b)[dD]?|(?P<kw>\\d+)\\s*kW|(?P<cv>\\d+)\\s*CV'\n",
    "    matches = re.findall(pattern, x, re.IGNORECASE)\n",
    "\n",
    "    cylinders_capacity = kw = cv = 0\n",
    "    for match in matches:\n",
    "        if match[0]:\n",
    "            cylinders_capacity = float(match[0])\n",
    "        if match[1]:\n",
    "            kw = float(match[1])\n",
    "        if match[2]:\n",
    "            cv = float(match[2])\n",
    "    \n",
    "    return pd.Series([cylinders_capacity, kw, cv])\n",
    "\n",
    "def lowercase_info(x):\n",
    "    return x.lower().strip()"
   ]
  },
  {
   "cell_type": "code",
   "execution_count": 43,
   "metadata": {},
   "outputs": [],
   "source": [
    "train[['cylinders_capacity', 'kW', 'CV']] = train['version'].apply(extract_info)\n",
    "train['make'] = train['make'].apply(lowercase_info)\n",
    "train['model'] = train['model'].apply(lowercase_info)"
   ]
  },
  {
   "cell_type": "code",
   "execution_count": 44,
   "metadata": {},
   "outputs": [
    {
     "data": {
      "text/html": [
       "<div>\n",
       "<style scoped>\n",
       "    .dataframe tbody tr th:only-of-type {\n",
       "        vertical-align: middle;\n",
       "    }\n",
       "\n",
       "    .dataframe tbody tr th {\n",
       "        vertical-align: top;\n",
       "    }\n",
       "\n",
       "    .dataframe thead th {\n",
       "        text-align: right;\n",
       "    }\n",
       "</style>\n",
       "<table border=\"1\" class=\"dataframe\">\n",
       "  <thead>\n",
       "    <tr style=\"text-align: right;\">\n",
       "      <th></th>\n",
       "      <th>make</th>\n",
       "      <th>model</th>\n",
       "      <th>version</th>\n",
       "      <th>fuel</th>\n",
       "      <th>year</th>\n",
       "      <th>kms</th>\n",
       "      <th>power</th>\n",
       "      <th>shift</th>\n",
       "      <th>photos</th>\n",
       "      <th>price</th>\n",
       "      <th>dealer_zip_code</th>\n",
       "      <th>cylinders_capacity</th>\n",
       "      <th>kW</th>\n",
       "      <th>CV</th>\n",
       "    </tr>\n",
       "  </thead>\n",
       "  <tbody>\n",
       "    <tr>\n",
       "      <th>86979</th>\n",
       "      <td>citroen</td>\n",
       "      <td>c5</td>\n",
       "      <td>2.0 HDi 140cv Business</td>\n",
       "      <td>Diésel</td>\n",
       "      <td>2015</td>\n",
       "      <td>133690.0</td>\n",
       "      <td>140.0</td>\n",
       "      <td>manual</td>\n",
       "      <td>10</td>\n",
       "      <td>10290</td>\n",
       "      <td>28021.0</td>\n",
       "      <td>2.0</td>\n",
       "      <td>0.0</td>\n",
       "      <td>140.0</td>\n",
       "    </tr>\n",
       "    <tr>\n",
       "      <th>49900</th>\n",
       "      <td>hyundai</td>\n",
       "      <td>i30</td>\n",
       "      <td>1.0 TGDI KLASS FASTBACK</td>\n",
       "      <td>Gasolina</td>\n",
       "      <td>2019</td>\n",
       "      <td>60000.0</td>\n",
       "      <td>119.0</td>\n",
       "      <td>manual</td>\n",
       "      <td>10</td>\n",
       "      <td>208</td>\n",
       "      <td>28009.0</td>\n",
       "      <td>1.0</td>\n",
       "      <td>0.0</td>\n",
       "      <td>0.0</td>\n",
       "    </tr>\n",
       "    <tr>\n",
       "      <th>74932</th>\n",
       "      <td>fiat</td>\n",
       "      <td>500l</td>\n",
       "      <td>Pop Star 1.4 16v 95CV</td>\n",
       "      <td>Gasolina</td>\n",
       "      <td>2015</td>\n",
       "      <td>165699.0</td>\n",
       "      <td>95.0</td>\n",
       "      <td>manual</td>\n",
       "      <td>10</td>\n",
       "      <td>7990</td>\n",
       "      <td>46070.0</td>\n",
       "      <td>1.4</td>\n",
       "      <td>0.0</td>\n",
       "      <td>95.0</td>\n",
       "    </tr>\n",
       "    <tr>\n",
       "      <th>76079</th>\n",
       "      <td>volkswagen</td>\n",
       "      <td>polo</td>\n",
       "      <td>Advance 1.0 TSI 70kW (95CV)</td>\n",
       "      <td>Gasolina</td>\n",
       "      <td>2021</td>\n",
       "      <td>56215.0</td>\n",
       "      <td>95.0</td>\n",
       "      <td>manual</td>\n",
       "      <td>10</td>\n",
       "      <td>16490</td>\n",
       "      <td>28021.0</td>\n",
       "      <td>1.0</td>\n",
       "      <td>70.0</td>\n",
       "      <td>95.0</td>\n",
       "    </tr>\n",
       "    <tr>\n",
       "      <th>98989</th>\n",
       "      <td>citroen</td>\n",
       "      <td>c4 picasso</td>\n",
       "      <td>BlueHDi 120cv EAT6 Live Edition</td>\n",
       "      <td>Diésel</td>\n",
       "      <td>2016</td>\n",
       "      <td>128108.0</td>\n",
       "      <td>120.0</td>\n",
       "      <td>automatic</td>\n",
       "      <td>10</td>\n",
       "      <td>12990</td>\n",
       "      <td>18005.0</td>\n",
       "      <td>0.0</td>\n",
       "      <td>0.0</td>\n",
       "      <td>120.0</td>\n",
       "    </tr>\n",
       "  </tbody>\n",
       "</table>\n",
       "</div>"
      ],
      "text/plain": [
       "             make       model                          version      fuel  \\\n",
       "86979     citroen          c5           2.0 HDi 140cv Business    Diésel   \n",
       "49900     hyundai         i30          1.0 TGDI KLASS FASTBACK  Gasolina   \n",
       "74932        fiat        500l            Pop Star 1.4 16v 95CV  Gasolina   \n",
       "76079  volkswagen        polo      Advance 1.0 TSI 70kW (95CV)  Gasolina   \n",
       "98989     citroen  c4 picasso  BlueHDi 120cv EAT6 Live Edition    Diésel   \n",
       "\n",
       "       year       kms  power      shift  photos  price  dealer_zip_code  \\\n",
       "86979  2015  133690.0  140.0     manual      10  10290          28021.0   \n",
       "49900  2019   60000.0  119.0     manual      10    208          28009.0   \n",
       "74932  2015  165699.0   95.0     manual      10   7990          46070.0   \n",
       "76079  2021   56215.0   95.0     manual      10  16490          28021.0   \n",
       "98989  2016  128108.0  120.0  automatic      10  12990          18005.0   \n",
       "\n",
       "       cylinders_capacity    kW     CV  \n",
       "86979                 2.0   0.0  140.0  \n",
       "49900                 1.0   0.0    0.0  \n",
       "74932                 1.4   0.0   95.0  \n",
       "76079                 1.0  70.0   95.0  \n",
       "98989                 0.0   0.0  120.0  "
      ]
     },
     "execution_count": 44,
     "metadata": {},
     "output_type": "execute_result"
    }
   ],
   "source": [
    "train.head()"
   ]
  },
  {
   "cell_type": "markdown",
   "metadata": {},
   "source": [
    "#### Power"
   ]
  },
  {
   "cell_type": "code",
   "execution_count": 45,
   "metadata": {},
   "outputs": [],
   "source": [
    "train.loc[train['power'].isna(), 'power'] = train.loc[train['power'].isna(), 'CV']"
   ]
  },
  {
   "cell_type": "code",
   "execution_count": 46,
   "metadata": {},
   "outputs": [
    {
     "data": {
      "text/html": [
       "<div>\n",
       "<style scoped>\n",
       "    .dataframe tbody tr th:only-of-type {\n",
       "        vertical-align: middle;\n",
       "    }\n",
       "\n",
       "    .dataframe tbody tr th {\n",
       "        vertical-align: top;\n",
       "    }\n",
       "\n",
       "    .dataframe thead th {\n",
       "        text-align: right;\n",
       "    }\n",
       "</style>\n",
       "<table border=\"1\" class=\"dataframe\">\n",
       "  <thead>\n",
       "    <tr style=\"text-align: right;\">\n",
       "      <th></th>\n",
       "      <th>make</th>\n",
       "      <th>model</th>\n",
       "      <th>version</th>\n",
       "      <th>fuel</th>\n",
       "      <th>year</th>\n",
       "      <th>kms</th>\n",
       "      <th>power</th>\n",
       "      <th>shift</th>\n",
       "      <th>photos</th>\n",
       "      <th>price</th>\n",
       "      <th>dealer_zip_code</th>\n",
       "      <th>cylinders_capacity</th>\n",
       "      <th>kW</th>\n",
       "      <th>CV</th>\n",
       "    </tr>\n",
       "  </thead>\n",
       "  <tbody>\n",
       "    <tr>\n",
       "      <th>51219</th>\n",
       "      <td>peugeot</td>\n",
       "      <td>107</td>\n",
       "      <td>1.0i Urban</td>\n",
       "      <td>Gasolina</td>\n",
       "      <td>2010</td>\n",
       "      <td>199000.0</td>\n",
       "      <td>0.0</td>\n",
       "      <td>manual</td>\n",
       "      <td>10</td>\n",
       "      <td>4990</td>\n",
       "      <td>8028.0</td>\n",
       "      <td>0.0</td>\n",
       "      <td>0.0</td>\n",
       "      <td>0.0</td>\n",
       "    </tr>\n",
       "    <tr>\n",
       "      <th>1088</th>\n",
       "      <td>renault</td>\n",
       "      <td>clio</td>\n",
       "      <td>Confort Dynamique 1.4 16v</td>\n",
       "      <td>Gasolina</td>\n",
       "      <td>2006</td>\n",
       "      <td>113000.0</td>\n",
       "      <td>0.0</td>\n",
       "      <td>manual</td>\n",
       "      <td>10</td>\n",
       "      <td>4990</td>\n",
       "      <td>8028.0</td>\n",
       "      <td>1.4</td>\n",
       "      <td>0.0</td>\n",
       "      <td>0.0</td>\n",
       "    </tr>\n",
       "    <tr>\n",
       "      <th>1647</th>\n",
       "      <td>tesla</td>\n",
       "      <td>model s</td>\n",
       "      <td>75D 5p Aut.</td>\n",
       "      <td>Eléctrico</td>\n",
       "      <td>2019</td>\n",
       "      <td>87000.0</td>\n",
       "      <td>0.0</td>\n",
       "      <td>automatic</td>\n",
       "      <td>10</td>\n",
       "      <td>59900</td>\n",
       "      <td>46600.0</td>\n",
       "      <td>0.0</td>\n",
       "      <td>0.0</td>\n",
       "      <td>0.0</td>\n",
       "    </tr>\n",
       "    <tr>\n",
       "      <th>58290</th>\n",
       "      <td>mercedes-benz</td>\n",
       "      <td>clase s</td>\n",
       "      <td>280S</td>\n",
       "      <td>Gasolina</td>\n",
       "      <td>1979</td>\n",
       "      <td>151862.0</td>\n",
       "      <td>0.0</td>\n",
       "      <td>manual</td>\n",
       "      <td>8</td>\n",
       "      <td>6000</td>\n",
       "      <td>28294.0</td>\n",
       "      <td>0.0</td>\n",
       "      <td>0.0</td>\n",
       "      <td>0.0</td>\n",
       "    </tr>\n",
       "    <tr>\n",
       "      <th>90556</th>\n",
       "      <td>citroen</td>\n",
       "      <td>c3</td>\n",
       "      <td>C3 1.4 COOL</td>\n",
       "      <td>Gasolina</td>\n",
       "      <td>2009</td>\n",
       "      <td>61416.0</td>\n",
       "      <td>0.0</td>\n",
       "      <td>manual</td>\n",
       "      <td>10</td>\n",
       "      <td>6990</td>\n",
       "      <td>46600.0</td>\n",
       "      <td>1.4</td>\n",
       "      <td>0.0</td>\n",
       "      <td>0.0</td>\n",
       "    </tr>\n",
       "    <tr>\n",
       "      <th>...</th>\n",
       "      <td>...</td>\n",
       "      <td>...</td>\n",
       "      <td>...</td>\n",
       "      <td>...</td>\n",
       "      <td>...</td>\n",
       "      <td>...</td>\n",
       "      <td>...</td>\n",
       "      <td>...</td>\n",
       "      <td>...</td>\n",
       "      <td>...</td>\n",
       "      <td>...</td>\n",
       "      <td>...</td>\n",
       "      <td>...</td>\n",
       "      <td>...</td>\n",
       "    </tr>\n",
       "    <tr>\n",
       "      <th>94088</th>\n",
       "      <td>citroen</td>\n",
       "      <td>berlingo</td>\n",
       "      <td>1.6 BLUEHDI LARGA 3PLAZAS 100</td>\n",
       "      <td>Diésel</td>\n",
       "      <td>2018</td>\n",
       "      <td>149638.0</td>\n",
       "      <td>0.0</td>\n",
       "      <td>manual</td>\n",
       "      <td>2</td>\n",
       "      <td>10990</td>\n",
       "      <td>36204.0</td>\n",
       "      <td>1.6</td>\n",
       "      <td>0.0</td>\n",
       "      <td>0.0</td>\n",
       "    </tr>\n",
       "    <tr>\n",
       "      <th>4425</th>\n",
       "      <td>alpine</td>\n",
       "      <td>a110</td>\n",
       "      <td>1100</td>\n",
       "      <td>Gasolina</td>\n",
       "      <td>1980</td>\n",
       "      <td>0.0</td>\n",
       "      <td>0.0</td>\n",
       "      <td>manual</td>\n",
       "      <td>6</td>\n",
       "      <td>77000</td>\n",
       "      <td>15141.0</td>\n",
       "      <td>0.0</td>\n",
       "      <td>0.0</td>\n",
       "      <td>0.0</td>\n",
       "    </tr>\n",
       "    <tr>\n",
       "      <th>55609</th>\n",
       "      <td>lexus</td>\n",
       "      <td>rx</td>\n",
       "      <td>RX450H LUXURY</td>\n",
       "      <td>NaN</td>\n",
       "      <td>2015</td>\n",
       "      <td>270000.0</td>\n",
       "      <td>0.0</td>\n",
       "      <td>automatic</td>\n",
       "      <td>10</td>\n",
       "      <td>19990</td>\n",
       "      <td>8028.0</td>\n",
       "      <td>0.0</td>\n",
       "      <td>0.0</td>\n",
       "      <td>0.0</td>\n",
       "    </tr>\n",
       "    <tr>\n",
       "      <th>32635</th>\n",
       "      <td>subaru</td>\n",
       "      <td>impreza</td>\n",
       "      <td>1.6i-S CVT AWD</td>\n",
       "      <td>Gasolina</td>\n",
       "      <td>2018</td>\n",
       "      <td>89182.0</td>\n",
       "      <td>0.0</td>\n",
       "      <td>automatic</td>\n",
       "      <td>10</td>\n",
       "      <td>17995</td>\n",
       "      <td>46020.0</td>\n",
       "      <td>0.0</td>\n",
       "      <td>0.0</td>\n",
       "      <td>0.0</td>\n",
       "    </tr>\n",
       "    <tr>\n",
       "      <th>47333</th>\n",
       "      <td>lamborghini</td>\n",
       "      <td>huracán</td>\n",
       "      <td>LP 610 SPYDER</td>\n",
       "      <td>NaN</td>\n",
       "      <td>2018</td>\n",
       "      <td>86471.0</td>\n",
       "      <td>0.0</td>\n",
       "      <td>manual</td>\n",
       "      <td>10</td>\n",
       "      <td>225000</td>\n",
       "      <td>29002.0</td>\n",
       "      <td>0.0</td>\n",
       "      <td>0.0</td>\n",
       "      <td>0.0</td>\n",
       "    </tr>\n",
       "  </tbody>\n",
       "</table>\n",
       "<p>61 rows × 14 columns</p>\n",
       "</div>"
      ],
      "text/plain": [
       "                make     model                        version       fuel  \\\n",
       "51219        peugeot       107                     1.0i Urban   Gasolina   \n",
       "1088         renault      clio      Confort Dynamique 1.4 16v   Gasolina   \n",
       "1647           tesla   model s                    75D 5p Aut.  Eléctrico   \n",
       "58290  mercedes-benz   clase s                           280S   Gasolina   \n",
       "90556        citroen        c3                    C3 1.4 COOL   Gasolina   \n",
       "...              ...       ...                            ...        ...   \n",
       "94088        citroen  berlingo  1.6 BLUEHDI LARGA 3PLAZAS 100     Diésel   \n",
       "4425          alpine      a110                           1100   Gasolina   \n",
       "55609          lexus        rx                  RX450H LUXURY        NaN   \n",
       "32635         subaru   impreza                 1.6i-S CVT AWD   Gasolina   \n",
       "47333    lamborghini   huracán                  LP 610 SPYDER        NaN   \n",
       "\n",
       "       year       kms  power      shift  photos   price  dealer_zip_code  \\\n",
       "51219  2010  199000.0    0.0     manual      10    4990           8028.0   \n",
       "1088   2006  113000.0    0.0     manual      10    4990           8028.0   \n",
       "1647   2019   87000.0    0.0  automatic      10   59900          46600.0   \n",
       "58290  1979  151862.0    0.0     manual       8    6000          28294.0   \n",
       "90556  2009   61416.0    0.0     manual      10    6990          46600.0   \n",
       "...     ...       ...    ...        ...     ...     ...              ...   \n",
       "94088  2018  149638.0    0.0     manual       2   10990          36204.0   \n",
       "4425   1980       0.0    0.0     manual       6   77000          15141.0   \n",
       "55609  2015  270000.0    0.0  automatic      10   19990           8028.0   \n",
       "32635  2018   89182.0    0.0  automatic      10   17995          46020.0   \n",
       "47333  2018   86471.0    0.0     manual      10  225000          29002.0   \n",
       "\n",
       "       cylinders_capacity   kW   CV  \n",
       "51219                 0.0  0.0  0.0  \n",
       "1088                  1.4  0.0  0.0  \n",
       "1647                  0.0  0.0  0.0  \n",
       "58290                 0.0  0.0  0.0  \n",
       "90556                 1.4  0.0  0.0  \n",
       "...                   ...  ...  ...  \n",
       "94088                 1.6  0.0  0.0  \n",
       "4425                  0.0  0.0  0.0  \n",
       "55609                 0.0  0.0  0.0  \n",
       "32635                 0.0  0.0  0.0  \n",
       "47333                 0.0  0.0  0.0  \n",
       "\n",
       "[61 rows x 14 columns]"
      ]
     },
     "execution_count": 46,
     "metadata": {},
     "output_type": "execute_result"
    }
   ],
   "source": [
    "train.loc[train['power'] < 1]"
   ]
  },
  {
   "cell_type": "markdown",
   "metadata": {},
   "source": [
    "Ahora los nulos se han transformado en 0.0, pero aún podemos obtener alguna potencia más de algún coche utilizando los kW. Vamos a utilizar el kW en aquellos que podamos y al resto le aplicaremos la media redondeada."
   ]
  },
  {
   "cell_type": "code",
   "execution_count": 47,
   "metadata": {},
   "outputs": [],
   "source": [
    "train.loc[train['power'] == 0, 'power'] = train.loc[train['power'] == 0, 'kW']\n",
    "\n",
    "power_mean_train = train['power'].mean().round(0)\n",
    "train.loc[train['power'] == 0, 'power'] = power_mean_train"
   ]
  },
  {
   "cell_type": "markdown",
   "metadata": {},
   "source": [
    "La columna de power ya no tiene ningún valor nulo."
   ]
  },
  {
   "cell_type": "markdown",
   "metadata": {},
   "source": [
    "#### Fuel y version\n",
    "\n",
    "La columna version vamos a dejarla con nulos, ya que no la vamos a utilizar para entrenar a nuestro modelo. Sin embargo, no hemos conseguido información sobre el tipo de combustible que utilizan los vehículos al descomponer la columna de version. Por ello, vamos a utilizar la moda para rellenar los nulos que hay en fuel."
   ]
  },
  {
   "cell_type": "code",
   "execution_count": 48,
   "metadata": {},
   "outputs": [],
   "source": [
    "fuel_mode_train = train['fuel'].mode()[0]\n",
    "train.loc[train['fuel'].isna(), 'fuel'] = fuel_mode_train"
   ]
  },
  {
   "cell_type": "markdown",
   "metadata": {},
   "source": [
    "Además, vamos a eliminar las columnas de kW y CV, ya que no las vamos a utilizar más."
   ]
  },
  {
   "cell_type": "code",
   "execution_count": 49,
   "metadata": {},
   "outputs": [],
   "source": [
    "train.drop(columns = ['kW', 'CV'], inplace = True)"
   ]
  },
  {
   "cell_type": "markdown",
   "metadata": {},
   "source": [
    "### Nuevas variables\n",
    "\n",
    "#### power_cat\n",
    "Como ya tenemos la potencia de todos los vehículos, podemos clasificarlos según su potencia."
   ]
  },
  {
   "cell_type": "code",
   "execution_count": 50,
   "metadata": {},
   "outputs": [],
   "source": [
    "def clasificar_potencia(power):\n",
    "    if power < 100:\n",
    "        return 'Baja'\n",
    "    elif power < 150:\n",
    "        return 'Media'\n",
    "    elif power < 200:\n",
    "        return 'Alta'\n",
    "    else:\n",
    "        return 'Muy Alta'"
   ]
  },
  {
   "cell_type": "code",
   "execution_count": 51,
   "metadata": {},
   "outputs": [],
   "source": [
    "train['power_cat'] = train['power'].apply(clasificar_potencia)"
   ]
  },
  {
   "cell_type": "markdown",
   "metadata": {},
   "source": [
    "#### Ratio kms_years\n",
    "\n",
    "Podemos establecer más o menos el desgaste del vehículo dividiendo el kilometraje del coche entre los años que tiene desde su matriculación. Los datos están actualizados hasta el 2023, por lo que vamos a utilizar el 2024 como guía."
   ]
  },
  {
   "cell_type": "code",
   "execution_count": 52,
   "metadata": {},
   "outputs": [],
   "source": [
    "actual_year = 2024\n",
    "\n",
    "train['kms_years'] = train.apply(lambda row: row['kms'] / (actual_year - row['year']), axis = 1)"
   ]
  },
  {
   "cell_type": "markdown",
   "metadata": {},
   "source": [
    "#### Etiqueta medioambiental\n",
    "\n",
    "En el mercado de segunda mano de coches en España, una variable muy importante es la etiqueta medioambiental del coche, ya que según esta misma, el coche puede acceder o no a diferentes ciudades o zonas. Esta etiqueta depende del año de matriculación y del tipo de combustible, siendo:\n",
    "- A (sin etiqueta): gasolina anteriores a 2001 y diésel anteriores a 2006\n",
    "- B: gasolina de 2001 a 2006 y diésel de 2006 a 2015\n",
    "- C: gasolina a partir de 2006 y diésel a partir de 2015\n",
    "- ECO: coches híbridos\n",
    "- ZERO: coches eléctricos"
   ]
  },
  {
   "cell_type": "code",
   "execution_count": 53,
   "metadata": {},
   "outputs": [],
   "source": [
    "filter_A = ((train['year'] < 2001) & (train['fuel'] == 'Gasolina')) | ((train['year'] < 2006) & (train['fuel'] == 'Diésel'))\n",
    "filter_B = ((train['year'] >= 2001) & (train['year'] < 2006) & (train['fuel'] == 'Gasolina')) | ((train['year'] >= 2006) & (train['year'] < 2015) & (train['fuel'] == 'Diésel'))\n",
    "filter_C = ((train['year'] >= 2006) & (train['fuel'] == 'Gasolina')) | ((train['year'] >= 2015) & (train['fuel'] == 'Diésel'))\n",
    "filter_ZERO = (train['fuel'] == 'Eléctrico')\n",
    "filter_otros = train['fuel'] == 'Otros'"
   ]
  },
  {
   "cell_type": "code",
   "execution_count": 54,
   "metadata": {},
   "outputs": [],
   "source": [
    "train.loc[filter_A, 'emission_label'] = 'A'\n",
    "train.loc[filter_B, 'emission_label'] = 'B'\n",
    "train.loc[filter_C, 'emission_label'] = 'C'\n",
    "train.loc[filter_ZERO, 'emission_label'] = 'ZERO'\n",
    "train.loc[filter_otros, 'emission_label'] = train['emission_label'].mode()[0]"
   ]
  },
  {
   "cell_type": "code",
   "execution_count": 55,
   "metadata": {},
   "outputs": [
    {
     "data": {
      "text/plain": [
       "emission_label\n",
       "C       31274\n",
       "B        4833\n",
       "ZERO     1723\n",
       "A         678\n",
       "Name: count, dtype: int64"
      ]
     },
     "execution_count": 55,
     "metadata": {},
     "output_type": "execute_result"
    }
   ],
   "source": [
    "train.emission_label.value_counts()"
   ]
  },
  {
   "cell_type": "markdown",
   "metadata": {},
   "source": [
    "Observamos que la mayor parte de coches tienen etiqueta C. Valoraremos más adelante si puede ser una variable interesante."
   ]
  },
  {
   "cell_type": "code",
   "execution_count": 56,
   "metadata": {},
   "outputs": [
    {
     "data": {
      "text/html": [
       "<div>\n",
       "<style scoped>\n",
       "    .dataframe tbody tr th:only-of-type {\n",
       "        vertical-align: middle;\n",
       "    }\n",
       "\n",
       "    .dataframe tbody tr th {\n",
       "        vertical-align: top;\n",
       "    }\n",
       "\n",
       "    .dataframe thead th {\n",
       "        text-align: right;\n",
       "    }\n",
       "</style>\n",
       "<table border=\"1\" class=\"dataframe\">\n",
       "  <thead>\n",
       "    <tr style=\"text-align: right;\">\n",
       "      <th></th>\n",
       "      <th>make</th>\n",
       "      <th>model</th>\n",
       "      <th>version</th>\n",
       "      <th>fuel</th>\n",
       "      <th>year</th>\n",
       "      <th>kms</th>\n",
       "      <th>power</th>\n",
       "      <th>shift</th>\n",
       "      <th>photos</th>\n",
       "      <th>price</th>\n",
       "      <th>dealer_zip_code</th>\n",
       "      <th>cylinders_capacity</th>\n",
       "      <th>power_cat</th>\n",
       "      <th>kms_years</th>\n",
       "      <th>emission_label</th>\n",
       "    </tr>\n",
       "  </thead>\n",
       "  <tbody>\n",
       "    <tr>\n",
       "      <th>86979</th>\n",
       "      <td>citroen</td>\n",
       "      <td>c5</td>\n",
       "      <td>2.0 HDi 140cv Business</td>\n",
       "      <td>Diésel</td>\n",
       "      <td>2015</td>\n",
       "      <td>133690.0</td>\n",
       "      <td>140.0</td>\n",
       "      <td>manual</td>\n",
       "      <td>10</td>\n",
       "      <td>10290</td>\n",
       "      <td>28021.0</td>\n",
       "      <td>2.0</td>\n",
       "      <td>Media</td>\n",
       "      <td>14854.444444</td>\n",
       "      <td>C</td>\n",
       "    </tr>\n",
       "    <tr>\n",
       "      <th>49900</th>\n",
       "      <td>hyundai</td>\n",
       "      <td>i30</td>\n",
       "      <td>1.0 TGDI KLASS FASTBACK</td>\n",
       "      <td>Gasolina</td>\n",
       "      <td>2019</td>\n",
       "      <td>60000.0</td>\n",
       "      <td>119.0</td>\n",
       "      <td>manual</td>\n",
       "      <td>10</td>\n",
       "      <td>208</td>\n",
       "      <td>28009.0</td>\n",
       "      <td>1.0</td>\n",
       "      <td>Media</td>\n",
       "      <td>12000.000000</td>\n",
       "      <td>C</td>\n",
       "    </tr>\n",
       "    <tr>\n",
       "      <th>74932</th>\n",
       "      <td>fiat</td>\n",
       "      <td>500l</td>\n",
       "      <td>Pop Star 1.4 16v 95CV</td>\n",
       "      <td>Gasolina</td>\n",
       "      <td>2015</td>\n",
       "      <td>165699.0</td>\n",
       "      <td>95.0</td>\n",
       "      <td>manual</td>\n",
       "      <td>10</td>\n",
       "      <td>7990</td>\n",
       "      <td>46070.0</td>\n",
       "      <td>1.4</td>\n",
       "      <td>Baja</td>\n",
       "      <td>18411.000000</td>\n",
       "      <td>C</td>\n",
       "    </tr>\n",
       "    <tr>\n",
       "      <th>76079</th>\n",
       "      <td>volkswagen</td>\n",
       "      <td>polo</td>\n",
       "      <td>Advance 1.0 TSI 70kW (95CV)</td>\n",
       "      <td>Gasolina</td>\n",
       "      <td>2021</td>\n",
       "      <td>56215.0</td>\n",
       "      <td>95.0</td>\n",
       "      <td>manual</td>\n",
       "      <td>10</td>\n",
       "      <td>16490</td>\n",
       "      <td>28021.0</td>\n",
       "      <td>1.0</td>\n",
       "      <td>Baja</td>\n",
       "      <td>18738.333333</td>\n",
       "      <td>C</td>\n",
       "    </tr>\n",
       "    <tr>\n",
       "      <th>98989</th>\n",
       "      <td>citroen</td>\n",
       "      <td>c4 picasso</td>\n",
       "      <td>BlueHDi 120cv EAT6 Live Edition</td>\n",
       "      <td>Diésel</td>\n",
       "      <td>2016</td>\n",
       "      <td>128108.0</td>\n",
       "      <td>120.0</td>\n",
       "      <td>automatic</td>\n",
       "      <td>10</td>\n",
       "      <td>12990</td>\n",
       "      <td>18005.0</td>\n",
       "      <td>0.0</td>\n",
       "      <td>Media</td>\n",
       "      <td>16013.500000</td>\n",
       "      <td>C</td>\n",
       "    </tr>\n",
       "  </tbody>\n",
       "</table>\n",
       "</div>"
      ],
      "text/plain": [
       "             make       model                          version      fuel  \\\n",
       "86979     citroen          c5           2.0 HDi 140cv Business    Diésel   \n",
       "49900     hyundai         i30          1.0 TGDI KLASS FASTBACK  Gasolina   \n",
       "74932        fiat        500l            Pop Star 1.4 16v 95CV  Gasolina   \n",
       "76079  volkswagen        polo      Advance 1.0 TSI 70kW (95CV)  Gasolina   \n",
       "98989     citroen  c4 picasso  BlueHDi 120cv EAT6 Live Edition    Diésel   \n",
       "\n",
       "       year       kms  power      shift  photos  price  dealer_zip_code  \\\n",
       "86979  2015  133690.0  140.0     manual      10  10290          28021.0   \n",
       "49900  2019   60000.0  119.0     manual      10    208          28009.0   \n",
       "74932  2015  165699.0   95.0     manual      10   7990          46070.0   \n",
       "76079  2021   56215.0   95.0     manual      10  16490          28021.0   \n",
       "98989  2016  128108.0  120.0  automatic      10  12990          18005.0   \n",
       "\n",
       "       cylinders_capacity power_cat     kms_years emission_label  \n",
       "86979                 2.0     Media  14854.444444              C  \n",
       "49900                 1.0     Media  12000.000000              C  \n",
       "74932                 1.4      Baja  18411.000000              C  \n",
       "76079                 1.0      Baja  18738.333333              C  \n",
       "98989                 0.0     Media  16013.500000              C  "
      ]
     },
     "execution_count": 56,
     "metadata": {},
     "output_type": "execute_result"
    }
   ],
   "source": [
    "train.head()"
   ]
  },
  {
   "cell_type": "markdown",
   "metadata": {},
   "source": [
    "## Análisis exploratorio de las nuevas variables\n",
    "\n",
    "Procedemos a ver qué información nos dan las nuevas variables obtenidas a partir de las columnas existentes desde un inicio.\n",
    "\n",
    "### Variables numéricas"
   ]
  },
  {
   "cell_type": "code",
   "execution_count": 57,
   "metadata": {},
   "outputs": [],
   "source": [
    "new_num_cols = ['cylinders_capacity', 'kms_years']"
   ]
  },
  {
   "cell_type": "code",
   "execution_count": 58,
   "metadata": {},
   "outputs": [],
   "source": [
    "# viz.plot_distribution_combined_graphs(train, new_num_cols, whisker_width = 3)"
   ]
  },
  {
   "cell_type": "markdown",
   "metadata": {},
   "source": [
    "Podemos observar:\n",
    "- En cylinders_capacity hay dos categorías principales: 0 que indica que no conocemos la cilindrada y >0 que sí la conocemos, tendremos que tenerlo en cuenta.\n",
    "- La relación kms_years tiene varios outliers que tendremos que tratar en caso de malos resultados con nuestro modelo."
   ]
  },
  {
   "cell_type": "code",
   "execution_count": 59,
   "metadata": {},
   "outputs": [],
   "source": [
    "# sns.pairplot(train[new_num_cols + [target]]);"
   ]
  },
  {
   "cell_type": "code",
   "execution_count": 60,
   "metadata": {},
   "outputs": [],
   "source": [
    "# plt.figure(figsize = (10,8))\n",
    "# sns.heatmap(np.abs(train[new_num_cols + [target]].corr()), annot = True, cmap = \"Blues\", vmin = 0, vmax = 1);"
   ]
  },
  {
   "cell_type": "markdown",
   "metadata": {},
   "source": [
    "Visualizando la relación entre estas nuevas variables y el precio, no encontramos demasiada correlación. Por ello, añadiremos únicamente kms_years a la selección de correlación y las dos a la selección general."
   ]
  },
  {
   "cell_type": "code",
   "execution_count": 61,
   "metadata": {},
   "outputs": [],
   "source": [
    "num_feat.append('cylinders_capacity')\n",
    "num_feat.append('kms_years')\n",
    "num_feat_corr.append('kms_years')"
   ]
  },
  {
   "cell_type": "markdown",
   "metadata": {},
   "source": [
    "### Variables categóricas"
   ]
  },
  {
   "cell_type": "code",
   "execution_count": 62,
   "metadata": {},
   "outputs": [],
   "source": [
    "new_cat_cols = ['power_cat', 'emission_label']"
   ]
  },
  {
   "cell_type": "code",
   "execution_count": 63,
   "metadata": {},
   "outputs": [],
   "source": [
    "# viz.plot_distribution_categoricas(train, new_cat_cols, relativa = False, mostrar_valores = True);"
   ]
  },
  {
   "cell_type": "markdown",
   "metadata": {},
   "source": [
    "Observamos lo siguiente:\n",
    "- La mayor parte de los vehículos tienen una potencia media, es decir, entre 100 y 150 caballos.\n",
    "- La mayor parte de los vehículos tienen etiqueta C."
   ]
  },
  {
   "cell_type": "code",
   "execution_count": 64,
   "metadata": {},
   "outputs": [],
   "source": [
    "# for col in new_cat_cols:\n",
    "#     sns.histplot(train.loc[train[target] < 100000], x = target, hue = col, kde = True)\n",
    "#     plt.show();"
   ]
  },
  {
   "cell_type": "markdown",
   "metadata": {},
   "source": [
    "La categorización según potencia sí distingue en precios y parece que la etiqueta medioambiental también tiene importancia, por lo que incluiremos ambas."
   ]
  },
  {
   "cell_type": "code",
   "execution_count": 65,
   "metadata": {},
   "outputs": [],
   "source": [
    "total_cat_feat.append('power_cat')\n",
    "total_cat_feat.append('emission_label')"
   ]
  },
  {
   "cell_type": "markdown",
   "metadata": {},
   "source": [
    "## Transformación de datos de test\n",
    "\n",
    "A continuación, vamos a realizar estas mismas transformaciones al dataset de test."
   ]
  },
  {
   "cell_type": "code",
   "execution_count": 66,
   "metadata": {},
   "outputs": [],
   "source": [
    "# Eliminamos las columnas que no nos interesan:\n",
    "test.drop(columns = cols_to_drop, inplace = True)\n",
    "\n",
    "# Eliminamos aquellos vehículos que tengan un valor menor de 100, ya que serán despieces o anuncios falsos:\n",
    "test.drop(index = (test.loc[test[target] < 100].index), inplace = True)\n",
    "\n",
    "# Eliminamos los duplicados:\n",
    "test.drop_duplicates(keep = 'first', inplace = True)\n",
    "\n",
    "# Eliminamos aquellas columnas que tengan una potencia superiora 1020, puesto que son un error:\n",
    "test.drop(test.loc[test.power > 1020].index, inplace = True)\n",
    "\n",
    "# Rellenamos los nulos con la media y modas que hemos utilizado de train:\n",
    "test.loc[test['kms'].isna(), 'kms'] = kms_mean_train\n",
    "test.loc[test['shift'].isna(), 'shift'] = shift_mode_train\n",
    "test.loc[test['dealer_zip_code'].isna(), 'dealer_zip_code'] = dealer_zip_code_mode_train\n",
    "\n",
    "# Obtenemos toda la información posible de la columna de version y limpiamos make y model:\n",
    "test[['cylinders_capacity', 'kW', 'CV']] = test['version'].apply(extract_info)\n",
    "test['make'] = test['make'].apply(lowercase_info)\n",
    "test['model'] = test['model'].apply(lowercase_info)\n",
    "\n",
    "# Rellenamos los faltantes de power que podemos utilizando la información obtenida de version:\n",
    "test.loc[test['power'].isna(), 'power'] = test.loc[test['power'].isna(), 'CV']\n",
    "test.loc[test['power'] == 0, 'power'] = test.loc[test['power'] == 0, 'kW']\n",
    "test.loc[test['power'] == 0, 'power'] = power_mean_train\n",
    "\n",
    "# Rellenamos los nulos con la moda de fuel de train:\n",
    "test.loc[test['fuel'].isna(), 'fuel'] = fuel_mode_train\n",
    "\n",
    "# Eliminamos kW y CV:\n",
    "test.drop(columns = ['kW', 'CV'], inplace = True)\n",
    "\n",
    "# Creamos las variables de power_cat y kms_years:\n",
    "test['power_cat'] = test['power'].apply(clasificar_potencia)\n",
    "test['kms_years'] = test.apply(lambda row: row['kms'] / (actual_year - row['year']), axis = 1)\n",
    "\n",
    "# Creamos la variable de emission_label:\n",
    "filter_A_test = ((test['year'] < 2001) & (test['fuel'] == 'Gasolina')) | ((test['year'] < 2006) & (test['fuel'] == 'Diésel'))\n",
    "filter_B_test = ((test['year'] >= 2001) & (test['year'] < 2006) & (test['fuel'] == 'Gasolina')) | ((test['year'] >= 2006) & (test['year'] < 2015) & (test['fuel'] == 'Diésel'))\n",
    "filter_C_test = ((test['year'] >= 2006) & (test['fuel'] == 'Gasolina')) | ((test['year'] >= 2015) & (test['fuel'] == 'Diésel'))\n",
    "filter_ZERO_test = (test['fuel'] == 'Eléctrico')\n",
    "filter_otros_test = test['fuel'] == 'Otros'\n",
    "test.loc[filter_A_test, 'emission_label'] = 'A'\n",
    "test.loc[filter_B_test, 'emission_label'] = 'B'\n",
    "test.loc[filter_C_test, 'emission_label'] = 'C'\n",
    "test.loc[filter_ZERO_test, 'emission_label'] = 'ZERO'\n",
    "test.loc[filter_otros_test, 'emission_label'] = train['emission_label'].mode()[0]"
   ]
  },
  {
   "cell_type": "code",
   "execution_count": 67,
   "metadata": {},
   "outputs": [
    {
     "name": "stdout",
     "output_type": "stream",
     "text": [
      "<class 'pandas.core.frame.DataFrame'>\n",
      "Index: 15704 entries, 75721 to 42410\n",
      "Data columns (total 15 columns):\n",
      " #   Column              Non-Null Count  Dtype  \n",
      "---  ------              --------------  -----  \n",
      " 0   make                15704 non-null  object \n",
      " 1   model               15704 non-null  object \n",
      " 2   version             15679 non-null  object \n",
      " 3   fuel                15704 non-null  object \n",
      " 4   year                15704 non-null  int64  \n",
      " 5   kms                 15704 non-null  float64\n",
      " 6   power               15704 non-null  float64\n",
      " 7   shift               15704 non-null  object \n",
      " 8   photos              15704 non-null  int64  \n",
      " 9   price               15704 non-null  int64  \n",
      " 10  dealer_zip_code     15704 non-null  float64\n",
      " 11  cylinders_capacity  15704 non-null  float64\n",
      " 12  power_cat           15704 non-null  object \n",
      " 13  kms_years           15704 non-null  float64\n",
      " 14  emission_label      15704 non-null  object \n",
      "dtypes: float64(5), int64(3), object(7)\n",
      "memory usage: 1.9+ MB\n"
     ]
    }
   ],
   "source": [
    "test.info()"
   ]
  },
  {
   "cell_type": "markdown",
   "metadata": {},
   "source": [
    "Ya tenemos tanto train como test transformados inicialmente. Ahora vamos a preparar todos esos datos para entrenar a nuestros modelos de regresión."
   ]
  },
  {
   "cell_type": "markdown",
   "metadata": {},
   "source": [
    "## División en X_train, y_train y X_test, y_test\n",
    "\n",
    "Dividimos ya los datasets de train y test para poder trabajarlos y meterlos en el modelo."
   ]
  },
  {
   "cell_type": "code",
   "execution_count": 68,
   "metadata": {},
   "outputs": [],
   "source": [
    "X_train = train.drop(columns = target)\n",
    "y_train = train[target]\n",
    "\n",
    "X_test = test.drop(columns = target)\n",
    "y_test = test[target]"
   ]
  },
  {
   "cell_type": "markdown",
   "metadata": {},
   "source": [
    "## Preparación de variables\n",
    "\n",
    "### Numéricas\n",
    "\n",
    "Primero, vamos a transformar las variables mediante un log para ver si así normalizamos su distribución. Y a continuación, procedemos a escalar todas las numéricas con MinMaxScaler, para que todos los valores se encuentren entre 0 y 1 (igual que el OneHotEncoder). El escalado lo realizamos porque más adelante utilizaremos un modelo de regresión lineal."
   ]
  },
  {
   "cell_type": "code",
   "execution_count": 69,
   "metadata": {},
   "outputs": [
    {
     "data": {
      "image/png": "[encoded data removed]",
      "text/plain": [
       "<Figure size 640x480 with 9 Axes>"
      ]
     },
     "metadata": {},
     "output_type": "display_data"
    }
   ],
   "source": [
    "X_train[num_feat].hist()\n",
    "plt.tight_layout()"
   ]
  },
  {
   "cell_type": "code",
   "execution_count": 70,
   "metadata": {},
   "outputs": [
    {
     "data": {
      "image/png": "[encoded data removed]",
      "text/plain": [
       "<Figure size 640x480 with 9 Axes>"
      ]
     },
     "metadata": {},
     "output_type": "display_data"
    }
   ],
   "source": [
    "X_train[num_feat].apply(np.log1p).hist()\n",
    "plt.tight_layout();"
   ]
  },
  {
   "cell_type": "markdown",
   "metadata": {},
   "source": [
    "Exceptuando year y photos, vamos a transformar el resto de variables."
   ]
  },
  {
   "cell_type": "code",
   "execution_count": 71,
   "metadata": {},
   "outputs": [],
   "source": [
    "cols_to_log = num_feat.copy()\n",
    "cols_to_log.remove('year')\n",
    "cols_to_log.remove('photos')"
   ]
  },
  {
   "cell_type": "code",
   "execution_count": 72,
   "metadata": {},
   "outputs": [],
   "source": [
    "log_transformer = FunctionTransformer(func = np.log1p)\n",
    "\n",
    "num_pipeline = Pipeline([\n",
    "    (\"log\", log_transformer)])"
   ]
  },
  {
   "cell_type": "markdown",
   "metadata": {},
   "source": [
    "### Categóricas\n",
    "\n",
    "Vamos a utilizar el One Hot Encoder de ScikitLearn para transformar las variables categóricas y las variables de make y model. Más adelante valoraremos utilizarlo con las de version."
   ]
  },
  {
   "cell_type": "code",
   "execution_count": 73,
   "metadata": {},
   "outputs": [],
   "source": [
    "cat_pipeline = Pipeline([\n",
    "    (\"ohencoder\", OneHotEncoder(handle_unknown = \"ignore\"))])"
   ]
  },
  {
   "cell_type": "markdown",
   "metadata": {},
   "source": [
    "### Preprocesado completo"
   ]
  },
  {
   "cell_type": "code",
   "execution_count": 74,
   "metadata": {},
   "outputs": [],
   "source": [
    "preprocessing = ColumnTransformer([\n",
    "        (\"cat\", cat_pipeline, total_cat_feat),\n",
    "        (\"log\", num_pipeline, cols_to_log),\n",
    "        (\"drop_version\", \"drop\", ['version'])],\n",
    "        remainder = \"passthrough\")"
   ]
  },
  {
   "cell_type": "code",
   "execution_count": 75,
   "metadata": {},
   "outputs": [
    {
     "name": "stdout",
     "output_type": "stream",
     "text": [
      "Las dimensiones finales de X_train son: (38508, 832)\n"
     ]
    }
   ],
   "source": [
    "X_train = preprocessing.fit_transform(X_train)\n",
    "print('Las dimensiones finales de X_train son:', X_train.shape)"
   ]
  },
  {
   "cell_type": "markdown",
   "metadata": {},
   "source": [
    "#### Aplicamos las mismas transformaciones a X_test"
   ]
  },
  {
   "cell_type": "code",
   "execution_count": 76,
   "metadata": {},
   "outputs": [
    {
     "name": "stdout",
     "output_type": "stream",
     "text": [
      "Las dimensiones finales de X_test son: (15704, 832)\n"
     ]
    }
   ],
   "source": [
    "X_test = preprocessing.transform(X_test)\n",
    "print('Las dimensiones finales de X_test son:', X_test.shape)"
   ]
  },
  {
   "cell_type": "markdown",
   "metadata": {},
   "source": [
    "## Entrenamiento de los modelos\n",
    "\n",
    "Tras realizar diferentes pruebas en otros notebooks, decidimos:\n",
    "- No transformar el target, ya que no mejora el error.\n",
    "- Mantener las siguientes columnas como features: "
   ]
  },
  {
   "cell_type": "code",
   "execution_count": 77,
   "metadata": {},
   "outputs": [
    {
     "data": {
      "text/html": [
       "<style>#sk-container-id-1 {\n",
       "  /* Definition of color scheme common for light and dark mode */\n",
       "  --sklearn-color-text: #000;\n",
       "  --sklearn-color-text-muted: #666;\n",
       "  --sklearn-color-line: gray;\n",
       "  /* Definition of color scheme for unfitted estimators */\n",
       "  --sklearn-color-unfitted-level-0: #fff5e6;\n",
       "  --sklearn-color-unfitted-level-1: #f6e4d2;\n",
       "  --sklearn-color-unfitted-level-2: #ffe0b3;\n",
       "  --sklearn-color-unfitted-level-3: chocolate;\n",
       "  /* Definition of color scheme for fitted estimators */\n",
       "  --sklearn-color-fitted-level-0: #f0f8ff;\n",
       "  --sklearn-color-fitted-level-1: #d4ebff;\n",
       "  --sklearn-color-fitted-level-2: #b3dbfd;\n",
       "  --sklearn-color-fitted-level-3: cornflowerblue;\n",
       "\n",
       "  /* Specific color for light theme */\n",
       "  --sklearn-color-text-on-default-background: var(--sg-text-color, var(--theme-code-foreground, var(--jp-content-font-color1, black)));\n",
       "  --sklearn-color-background: var(--sg-background-color, var(--theme-background, var(--jp-layout-color0, white)));\n",
       "  --sklearn-color-border-box: var(--sg-text-color, var(--theme-code-foreground, var(--jp-content-font-color1, black)));\n",
       "  --sklearn-color-icon: #696969;\n",
       "\n",
       "  @media (prefers-color-scheme: dark) {\n",
       "    /* Redefinition of color scheme for dark theme */\n",
       "    --sklearn-color-text-on-default-background: var(--sg-text-color, var(--theme-code-foreground, var(--jp-content-font-color1, white)));\n",
       "    --sklearn-color-background: var(--sg-background-color, var(--theme-background, var(--jp-layout-color0, #111)));\n",
       "    --sklearn-color-border-box: var(--sg-text-color, var(--theme-code-foreground, var(--jp-content-font-color1, white)));\n",
       "    --sklearn-color-icon: #878787;\n",
       "  }\n",
       "}\n",
       "\n",
       "#sk-container-id-1 {\n",
       "  color: var(--sklearn-color-text);\n",
       "}\n",
       "\n",
       "#sk-container-id-1 pre {\n",
       "  padding: 0;\n",
       "}\n",
       "\n",
       "#sk-container-id-1 input.sk-hidden--visually {\n",
       "  border: 0;\n",
       "  clip: rect(1px 1px 1px 1px);\n",
       "  clip: rect(1px, 1px, 1px, 1px);\n",
       "  height: 1px;\n",
       "  margin: -1px;\n",
       "  overflow: hidden;\n",
       "  padding: 0;\n",
       "  position: absolute;\n",
       "  width: 1px;\n",
       "}\n",
       "\n",
       "#sk-container-id-1 div.sk-dashed-wrapped {\n",
       "  border: 1px dashed var(--sklearn-color-line);\n",
       "  margin: 0 0.4em 0.5em 0.4em;\n",
       "  box-sizing: border-box;\n",
       "  padding-bottom: 0.4em;\n",
       "  background-color: var(--sklearn-color-background);\n",
       "}\n",
       "\n",
       "#sk-container-id-1 div.sk-container {\n",
       "  /* jupyter's `normalize.less` sets `[hidden] { display: none; }`\n",
       "     but bootstrap.min.css set `[hidden] { display: none !important; }`\n",
       "     so we also need the `!important` here to be able to override the\n",
       "     default hidden behavior on the sphinx rendered scikit-learn.org.\n",
       "     See: https://github.com/scikit-learn/scikit-learn/issues/21755 */\n",
       "  display: inline-block !important;\n",
       "  position: relative;\n",
       "}\n",
       "\n",
       "#sk-container-id-1 div.sk-text-repr-fallback {\n",
       "  display: none;\n",
       "}\n",
       "\n",
       "div.sk-parallel-item,\n",
       "div.sk-serial,\n",
       "div.sk-item {\n",
       "  /* draw centered vertical line to link estimators */\n",
       "  background-image: linear-gradient(var(--sklearn-color-text-on-default-background), var(--sklearn-color-text-on-default-background));\n",
       "  background-size: 2px 100%;\n",
       "  background-repeat: no-repeat;\n",
       "  background-position: center center;\n",
       "}\n",
       "\n",
       "/* Parallel-specific style estimator block */\n",
       "\n",
       "#sk-container-id-1 div.sk-parallel-item::after {\n",
       "  content: \"\";\n",
       "  width: 100%;\n",
       "  border-bottom: 2px solid var(--sklearn-color-text-on-default-background);\n",
       "  flex-grow: 1;\n",
       "}\n",
       "\n",
       "#sk-container-id-1 div.sk-parallel {\n",
       "  display: flex;\n",
       "  align-items: stretch;\n",
       "  justify-content: center;\n",
       "  background-color: var(--sklearn-color-background);\n",
       "  position: relative;\n",
       "}\n",
       "\n",
       "#sk-container-id-1 div.sk-parallel-item {\n",
       "  display: flex;\n",
       "  flex-direction: column;\n",
       "}\n",
       "\n",
       "#sk-container-id-1 div.sk-parallel-item:first-child::after {\n",
       "  align-self: flex-end;\n",
       "  width: 50%;\n",
       "}\n",
       "\n",
       "#sk-container-id-1 div.sk-parallel-item:last-child::after {\n",
       "  align-self: flex-start;\n",
       "  width: 50%;\n",
       "}\n",
       "\n",
       "#sk-container-id-1 div.sk-parallel-item:only-child::after {\n",
       "  width: 0;\n",
       "}\n",
       "\n",
       "/* Serial-specific style estimator block */\n",
       "\n",
       "#sk-container-id-1 div.sk-serial {\n",
       "  display: flex;\n",
       "  flex-direction: column;\n",
       "  align-items: center;\n",
       "  background-color: var(--sklearn-color-background);\n",
       "  padding-right: 1em;\n",
       "  padding-left: 1em;\n",
       "}\n",
       "\n",
       "\n",
       "/* Toggleable style: style used for estimator/Pipeline/ColumnTransformer box that is\n",
       "clickable and can be expanded/collapsed.\n",
       "- Pipeline and ColumnTransformer use this feature and define the default style\n",
       "- Estimators will overwrite some part of the style using the `sk-estimator` class\n",
       "*/\n",
       "\n",
       "/* Pipeline and ColumnTransformer style (default) */\n",
       "\n",
       "#sk-container-id-1 div.sk-toggleable {\n",
       "  /* Default theme specific background. It is overwritten whether we have a\n",
       "  specific estimator or a Pipeline/ColumnTransformer */\n",
       "  background-color: var(--sklearn-color-background);\n",
       "}\n",
       "\n",
       "/* Toggleable label */\n",
       "#sk-container-id-1 label.sk-toggleable__label {\n",
       "  cursor: pointer;\n",
       "  display: flex;\n",
       "  width: 100%;\n",
       "  margin-bottom: 0;\n",
       "  padding: 0.5em;\n",
       "  box-sizing: border-box;\n",
       "  text-align: center;\n",
       "  align-items: start;\n",
       "  justify-content: space-between;\n",
       "  gap: 0.5em;\n",
       "}\n",
       "\n",
       "#sk-container-id-1 label.sk-toggleable__label .caption {\n",
       "  font-size: 0.6rem;\n",
       "  font-weight: lighter;\n",
       "  color: var(--sklearn-color-text-muted);\n",
       "}\n",
       "\n",
       "#sk-container-id-1 label.sk-toggleable__label-arrow:before {\n",
       "  /* Arrow on the left of the label */\n",
       "  content: \"▸\";\n",
       "  float: left;\n",
       "  margin-right: 0.25em;\n",
       "  color: var(--sklearn-color-icon);\n",
       "}\n",
       "\n",
       "#sk-container-id-1 label.sk-toggleable__label-arrow:hover:before {\n",
       "  color: var(--sklearn-color-text);\n",
       "}\n",
       "\n",
       "/* Toggleable content - dropdown */\n",
       "\n",
       "#sk-container-id-1 div.sk-toggleable__content {\n",
       "  max-height: 0;\n",
       "  max-width: 0;\n",
       "  overflow: hidden;\n",
       "  text-align: left;\n",
       "  /* unfitted */\n",
       "  background-color: var(--sklearn-color-unfitted-level-0);\n",
       "}\n",
       "\n",
       "#sk-container-id-1 div.sk-toggleable__content.fitted {\n",
       "  /* fitted */\n",
       "  background-color: var(--sklearn-color-fitted-level-0);\n",
       "}\n",
       "\n",
       "#sk-container-id-1 div.sk-toggleable__content pre {\n",
       "  margin: 0.2em;\n",
       "  border-radius: 0.25em;\n",
       "  color: var(--sklearn-color-text);\n",
       "  /* unfitted */\n",
       "  background-color: var(--sklearn-color-unfitted-level-0);\n",
       "}\n",
       "\n",
       "#sk-container-id-1 div.sk-toggleable__content.fitted pre {\n",
       "  /* unfitted */\n",
       "  background-color: var(--sklearn-color-fitted-level-0);\n",
       "}\n",
       "\n",
       "#sk-container-id-1 input.sk-toggleable__control:checked~div.sk-toggleable__content {\n",
       "  /* Expand drop-down */\n",
       "  max-height: 200px;\n",
       "  max-width: 100%;\n",
       "  overflow: auto;\n",
       "}\n",
       "\n",
       "#sk-container-id-1 input.sk-toggleable__control:checked~label.sk-toggleable__label-arrow:before {\n",
       "  content: \"▾\";\n",
       "}\n",
       "\n",
       "/* Pipeline/ColumnTransformer-specific style */\n",
       "\n",
       "#sk-container-id-1 div.sk-label input.sk-toggleable__control:checked~label.sk-toggleable__label {\n",
       "  color: var(--sklearn-color-text);\n",
       "  background-color: var(--sklearn-color-unfitted-level-2);\n",
       "}\n",
       "\n",
       "#sk-container-id-1 div.sk-label.fitted input.sk-toggleable__control:checked~label.sk-toggleable__label {\n",
       "  background-color: var(--sklearn-color-fitted-level-2);\n",
       "}\n",
       "\n",
       "/* Estimator-specific style */\n",
       "\n",
       "/* Colorize estimator box */\n",
       "#sk-container-id-1 div.sk-estimator input.sk-toggleable__control:checked~label.sk-toggleable__label {\n",
       "  /* unfitted */\n",
       "  background-color: var(--sklearn-color-unfitted-level-2);\n",
       "}\n",
       "\n",
       "#sk-container-id-1 div.sk-estimator.fitted input.sk-toggleable__control:checked~label.sk-toggleable__label {\n",
       "  /* fitted */\n",
       "  background-color: var(--sklearn-color-fitted-level-2);\n",
       "}\n",
       "\n",
       "#sk-container-id-1 div.sk-label label.sk-toggleable__label,\n",
       "#sk-container-id-1 div.sk-label label {\n",
       "  /* The background is the default theme color */\n",
       "  color: var(--sklearn-color-text-on-default-background);\n",
       "}\n",
       "\n",
       "/* On hover, darken the color of the background */\n",
       "#sk-container-id-1 div.sk-label:hover label.sk-toggleable__label {\n",
       "  color: var(--sklearn-color-text);\n",
       "  background-color: var(--sklearn-color-unfitted-level-2);\n",
       "}\n",
       "\n",
       "/* Label box, darken color on hover, fitted */\n",
       "#sk-container-id-1 div.sk-label.fitted:hover label.sk-toggleable__label.fitted {\n",
       "  color: var(--sklearn-color-text);\n",
       "  background-color: var(--sklearn-color-fitted-level-2);\n",
       "}\n",
       "\n",
       "/* Estimator label */\n",
       "\n",
       "#sk-container-id-1 div.sk-label label {\n",
       "  font-family: monospace;\n",
       "  font-weight: bold;\n",
       "  display: inline-block;\n",
       "  line-height: 1.2em;\n",
       "}\n",
       "\n",
       "#sk-container-id-1 div.sk-label-container {\n",
       "  text-align: center;\n",
       "}\n",
       "\n",
       "/* Estimator-specific */\n",
       "#sk-container-id-1 div.sk-estimator {\n",
       "  font-family: monospace;\n",
       "  border: 1px dotted var(--sklearn-color-border-box);\n",
       "  border-radius: 0.25em;\n",
       "  box-sizing: border-box;\n",
       "  margin-bottom: 0.5em;\n",
       "  /* unfitted */\n",
       "  background-color: var(--sklearn-color-unfitted-level-0);\n",
       "}\n",
       "\n",
       "#sk-container-id-1 div.sk-estimator.fitted {\n",
       "  /* fitted */\n",
       "  background-color: var(--sklearn-color-fitted-level-0);\n",
       "}\n",
       "\n",
       "/* on hover */\n",
       "#sk-container-id-1 div.sk-estimator:hover {\n",
       "  /* unfitted */\n",
       "  background-color: var(--sklearn-color-unfitted-level-2);\n",
       "}\n",
       "\n",
       "#sk-container-id-1 div.sk-estimator.fitted:hover {\n",
       "  /* fitted */\n",
       "  background-color: var(--sklearn-color-fitted-level-2);\n",
       "}\n",
       "\n",
       "/* Specification for estimator info (e.g. \"i\" and \"?\") */\n",
       "\n",
       "/* Common style for \"i\" and \"?\" */\n",
       "\n",
       ".sk-estimator-doc-link,\n",
       "a:link.sk-estimator-doc-link,\n",
       "a:visited.sk-estimator-doc-link {\n",
       "  float: right;\n",
       "  font-size: smaller;\n",
       "  line-height: 1em;\n",
       "  font-family: monospace;\n",
       "  background-color: var(--sklearn-color-background);\n",
       "  border-radius: 1em;\n",
       "  height: 1em;\n",
       "  width: 1em;\n",
       "  text-decoration: none !important;\n",
       "  margin-left: 0.5em;\n",
       "  text-align: center;\n",
       "  /* unfitted */\n",
       "  border: var(--sklearn-color-unfitted-level-1) 1pt solid;\n",
       "  color: var(--sklearn-color-unfitted-level-1);\n",
       "}\n",
       "\n",
       ".sk-estimator-doc-link.fitted,\n",
       "a:link.sk-estimator-doc-link.fitted,\n",
       "a:visited.sk-estimator-doc-link.fitted {\n",
       "  /* fitted */\n",
       "  border: var(--sklearn-color-fitted-level-1) 1pt solid;\n",
       "  color: var(--sklearn-color-fitted-level-1);\n",
       "}\n",
       "\n",
       "/* On hover */\n",
       "div.sk-estimator:hover .sk-estimator-doc-link:hover,\n",
       ".sk-estimator-doc-link:hover,\n",
       "div.sk-label-container:hover .sk-estimator-doc-link:hover,\n",
       ".sk-estimator-doc-link:hover {\n",
       "  /* unfitted */\n",
       "  background-color: var(--sklearn-color-unfitted-level-3);\n",
       "  color: var(--sklearn-color-background);\n",
       "  text-decoration: none;\n",
       "}\n",
       "\n",
       "div.sk-estimator.fitted:hover .sk-estimator-doc-link.fitted:hover,\n",
       ".sk-estimator-doc-link.fitted:hover,\n",
       "div.sk-label-container:hover .sk-estimator-doc-link.fitted:hover,\n",
       ".sk-estimator-doc-link.fitted:hover {\n",
       "  /* fitted */\n",
       "  background-color: var(--sklearn-color-fitted-level-3);\n",
       "  color: var(--sklearn-color-background);\n",
       "  text-decoration: none;\n",
       "}\n",
       "\n",
       "/* Span, style for the box shown on hovering the info icon */\n",
       ".sk-estimator-doc-link span {\n",
       "  display: none;\n",
       "  z-index: 9999;\n",
       "  position: relative;\n",
       "  font-weight: normal;\n",
       "  right: .2ex;\n",
       "  padding: .5ex;\n",
       "  margin: .5ex;\n",
       "  width: min-content;\n",
       "  min-width: 20ex;\n",
       "  max-width: 50ex;\n",
       "  color: var(--sklearn-color-text);\n",
       "  box-shadow: 2pt 2pt 4pt #999;\n",
       "  /* unfitted */\n",
       "  background: var(--sklearn-color-unfitted-level-0);\n",
       "  border: .5pt solid var(--sklearn-color-unfitted-level-3);\n",
       "}\n",
       "\n",
       ".sk-estimator-doc-link.fitted span {\n",
       "  /* fitted */\n",
       "  background: var(--sklearn-color-fitted-level-0);\n",
       "  border: var(--sklearn-color-fitted-level-3);\n",
       "}\n",
       "\n",
       ".sk-estimator-doc-link:hover span {\n",
       "  display: block;\n",
       "}\n",
       "\n",
       "/* \"?\"-specific style due to the `<a>` HTML tag */\n",
       "\n",
       "#sk-container-id-1 a.estimator_doc_link {\n",
       "  float: right;\n",
       "  font-size: 1rem;\n",
       "  line-height: 1em;\n",
       "  font-family: monospace;\n",
       "  background-color: var(--sklearn-color-background);\n",
       "  border-radius: 1rem;\n",
       "  height: 1rem;\n",
       "  width: 1rem;\n",
       "  text-decoration: none;\n",
       "  /* unfitted */\n",
       "  color: var(--sklearn-color-unfitted-level-1);\n",
       "  border: var(--sklearn-color-unfitted-level-1) 1pt solid;\n",
       "}\n",
       "\n",
       "#sk-container-id-1 a.estimator_doc_link.fitted {\n",
       "  /* fitted */\n",
       "  border: var(--sklearn-color-fitted-level-1) 1pt solid;\n",
       "  color: var(--sklearn-color-fitted-level-1);\n",
       "}\n",
       "\n",
       "/* On hover */\n",
       "#sk-container-id-1 a.estimator_doc_link:hover {\n",
       "  /* unfitted */\n",
       "  background-color: var(--sklearn-color-unfitted-level-3);\n",
       "  color: var(--sklearn-color-background);\n",
       "  text-decoration: none;\n",
       "}\n",
       "\n",
       "#sk-container-id-1 a.estimator_doc_link.fitted:hover {\n",
       "  /* fitted */\n",
       "  background-color: var(--sklearn-color-fitted-level-3);\n",
       "}\n",
       "</style><div id=\"sk-container-id-1\" class=\"sk-top-container\"><div class=\"sk-text-repr-fallback\"><pre>RandomForestRegressor(random_state=42)</pre><b>In a Jupyter environment, please rerun this cell to show the HTML representation or trust the notebook. <br />On GitHub, the HTML representation is unable to render, please try loading this page with nbviewer.org.</b></div><div class=\"sk-container\" hidden><div class=\"sk-item\"><div class=\"sk-estimator fitted sk-toggleable\"><input class=\"sk-toggleable__control sk-hidden--visually\" id=\"sk-estimator-id-1\" type=\"checkbox\" checked><label for=\"sk-estimator-id-1\" class=\"sk-toggleable__label fitted sk-toggleable__label-arrow\"><div><div>RandomForestRegressor</div></div><div><a class=\"sk-estimator-doc-link fitted\" rel=\"noreferrer\" target=\"_blank\" href=\"https://scikit-learn.org/1.6/modules/generated/sklearn.ensemble.RandomForestRegressor.html\">?<span>Documentation for RandomForestRegressor</span></a><span class=\"sk-estimator-doc-link fitted\">i<span>Fitted</span></span></div></label><div class=\"sk-toggleable__content fitted\"><pre>RandomForestRegressor(random_state=42)</pre></div> </div></div></div></div>"
      ],
      "text/plain": [
       "RandomForestRegressor(random_state=42)"
      ]
     },
     "execution_count": 77,
     "metadata": {},
     "output_type": "execute_result"
    }
   ],
   "source": [
    "rf_reg = RandomForestRegressor(random_state = 42)\n",
    "\n",
    "rf_reg.fit(X_train, y_train)"
   ]
  },
  {
   "cell_type": "markdown",
   "metadata": {},
   "source": [
    "### Optimización del modelo elegido"
   ]
  },
  {
   "cell_type": "code",
   "execution_count": 78,
   "metadata": {},
   "outputs": [],
   "source": [
    "rf_params = {\n",
    "    'n_estimators': [50, 100, 200],\n",
    "    'max_features': ['sqrt', 'log2'],\n",
    "    'max_depth': [None, 3, 10, 15, 50],\n",
    "    'min_samples_split': [2, 5, 10]\n",
    "}\n",
    "\n",
    "rf_gs = GridSearchCV(rf_reg,\n",
    "                      param_grid = rf_params,\n",
    "                      cv = 3,\n",
    "                      scoring = 'neg_root_mean_squared_error',\n",
    "                      verbose = 1,\n",
    "                      n_jobs = -1)"
   ]
  },
  {
   "cell_type": "code",
   "execution_count": null,
   "metadata": {},
   "outputs": [
    {
     "name": "stdout",
     "output_type": "stream",
     "text": [
      "Fitting 3 folds for each of 90 candidates, totalling 270 fits\n"
     ]
    }
   ],
   "source": [
    "rf_gs.fit(X_train, y_train)"
   ]
  },
  {
   "cell_type": "markdown",
   "metadata": {},
   "source": [
    "## Evaluación contra Test\n",
    "\n",
    "Vamos a probar nuestro modelo entrenado y optimizado contra test."
   ]
  },
  {
   "cell_type": "code",
   "execution_count": null,
   "metadata": {},
   "outputs": [
    {
     "name": "stdout",
     "output_type": "stream",
     "text": [
      "RMSE: 3292.843412320034\n",
      "R2: 0.9731397871814131\n"
     ]
    }
   ],
   "source": [
    "print('RMSE:', np.sqrt(mean_squared_error(y_test, rf_gs.predict(X_test))))\n",
    "print('R2:', r2_score(y_test, rf_gs.predict(X_test)))"
   ]
  },
  {
   "cell_type": "code",
   "execution_count": null,
   "metadata": {},
   "outputs": [],
   "source": []
  },
  {
   "cell_type": "code",
   "execution_count": null,
   "metadata": {},
   "outputs": [],
   "source": []
  },
  {
   "cell_type": "code",
   "execution_count": null,
   "metadata": {},
   "outputs": [],
   "source": [
    "# joblib.dump(best_model, cm.MODEL_PATH)"
   ]
  }
 ],
 "metadata": {
  "kernelspec": {
   "display_name": "virtual_env",
   "language": "python",
   "name": "python3"
  },
  "language_info": {
   "codemirror_mode": {
    "name": "ipython",
    "version": 3
   },
   "file_extension": ".py",
   "mimetype": "text/x-python",
   "name": "python",
   "nbconvert_exporter": "python",
   "pygments_lexer": "ipython3",
   "version": "3.9.13"
  }
 },
 "nbformat": 4,
 "nbformat_minor": 2
}
